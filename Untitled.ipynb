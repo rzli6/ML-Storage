{
 "cells": [
  {
   "cell_type": "code",
   "execution_count": 74,
   "metadata": {},
   "outputs": [],
   "source": [
    "import numpy as np\n",
    "import pandas as pd\n",
    "import os\n",
    "from importlib import reload\n",
    "import find_cpt"
   ]
  },
  {
   "cell_type": "code",
   "execution_count": 6,
   "metadata": {},
   "outputs": [],
   "source": [
    "data_dir = \"./data\"\n",
    "Hit_features = ['serial_number', 'date', 'smart_1_normalized', 'smart_1_raw', 'smart_3_normalized', 'smart_3_raw', 'smart_5_normalized', 'smart_5_raw', \n",
    "    'smart_194_normalized', 'smart_194_raw', 'smart_196_normalized', 'smart_196_raw', 'smart_197_normalized', 'smart_197_raw', 'failure']\n",
    "def process(df, name):\n",
    "    df = df.loc[df['model'] == name]\n",
    "    return df[Hit_features]"
   ]
  },
  {
   "cell_type": "code",
   "execution_count": 7,
   "metadata": {},
   "outputs": [],
   "source": [
    "# combine all the dates together\n",
    "HitA = pd.concat([process(pd.read_csv(os.path.join(data_dir, filename)), 'Hitachi HDS722020ALA330') for filename in os.listdir(data_dir)])\n",
    "# group = HitA.sort_values('date', ascending=True).groupby('serial_number', as_index=False)"
   ]
  },
  {
   "cell_type": "code",
   "execution_count": 8,
   "metadata": {},
   "outputs": [
    {
     "name": "stdout",
     "output_type": "stream",
     "text": [
      "['JK1105B8GHLUBX' 'JK11A8B9HTY23F' 'JK1105B8GA6AYX' 'JK11A8B9J388ZF'\n",
      " 'JK1101B9JP60TU' 'JK1105B8J10GXX' 'JK11A8B9J0U7DF' 'JK11A4B8HY123W'\n",
      " 'JK1104B8GGGBXW' 'JK1101B9JS452R' 'JK11A5B8KK8SKX' 'JK1105B8GG422X'\n",
      " 'JK1105B8GDLYGX' 'JK11A8B9J7A7TF' 'JK11A8YBKYWW1F' 'JK11A8B9J7A2JF'\n",
      " 'JK11A8YBKY5JVF' 'JK11A8B9GPHTNF' 'JK11A8B9J78DUF' 'JK11A8B9J7A49F'\n",
      " 'JK1105B8GHWJZX' 'JK1171YAK2045N' 'JK11E1B9K0M03T' 'JK1101B9GEJEUF'\n",
      " 'JK1101B9JPVHXF' 'JK11A8B9J90WMF' 'JK11A8B9J67Z0F' 'JK11A8YBKYTDGF'\n",
      " 'JK11A8B9J2YZTF' 'JK1170YAJDANDT' 'JK11A8B9J3L76F' 'JK1105B8GDM6PX'\n",
      " 'JK1171YBK1M69F' 'JK1131YAHP3NEV' 'JK1101YBK2Z6AF' 'JK1131YAJHRBBV'\n",
      " 'JK11A8B9J7NWWF' 'JK11A8B9J7NRRF' 'JK1105B8GG4X7X' 'JK1101B9J301EF'\n",
      " 'JK1105B8JS2ELX' 'JK1171YAK202SN' 'JK1180YAGXSE7T' 'JK11A8B9J6KXNF'\n",
      " 'JK1171B9HDB4KT' 'JK1131YAJJ445V' 'JK1171YAK1XBLN' 'JK1131YAJK6ELV']\n"
     ]
    }
   ],
   "source": [
    "# find names of the failure disk\n",
    "fail_names = HitA.loc[HitA['failure'] == 1]['serial_number'].unique()\n",
    "print(fail_names)"
   ]
  },
  {
   "cell_type": "code",
   "execution_count": 60,
   "metadata": {},
   "outputs": [
    {
     "name": "stdout",
     "output_type": "stream",
     "text": [
      "             date  smart_5_raw failure\n",
      "38712  2016-01-01          7.0       0\n",
      "38712  2016-01-02          7.0       0\n",
      "38753  2016-01-03          7.0       0\n",
      "38754  2016-01-04          7.0       0\n",
      "38721  2016-01-05          7.0       0\n",
      "38686  2016-01-06          7.0       0\n",
      "38686  2016-01-07          7.0       0\n",
      "38688  2016-01-08          7.0       0\n",
      "38687  2016-01-09          7.0       0\n",
      "38687  2016-01-10          7.0       0\n",
      "38688  2016-01-11          7.0       0\n",
      "38689  2016-01-12          7.0       0\n",
      "38690  2016-01-13          7.0       0\n",
      "38692  2016-01-14          7.0       0\n",
      "38721  2016-01-15          7.0       0\n",
      "38687  2016-01-16          7.0       0\n",
      "38686  2016-01-17          7.0       0\n",
      "38671  2016-01-18          7.0       0\n",
      "38679  2016-01-19          7.0       0\n",
      "38680  2016-01-20          7.0       0\n",
      "38656  2016-01-21          7.0       0\n",
      "38654  2016-01-22          7.0       0\n",
      "39283  2016-01-23          7.0       0\n",
      "39283  2016-01-24          7.0       0\n",
      "39282  2016-01-25          7.0       0\n",
      "39280  2016-01-26          7.0       0\n",
      "39251  2016-01-27          7.0       0\n",
      "39249  2016-01-28          7.0       0\n",
      "39275  2016-01-29          7.0       0\n",
      "39246  2016-01-30          7.0       0\n",
      "...           ...          ...     ...\n",
      "41936  2016-03-06          7.0       0\n",
      "41936  2016-03-07          7.0       0\n",
      "41966  2016-03-08          8.0       0\n",
      "41935  2016-03-09          8.0       0\n",
      "41935  2016-03-10          8.0       0\n",
      "41970  2016-03-11          8.0       0\n",
      "41971  2016-03-12          8.0       0\n",
      "41971  2016-03-13          8.0       0\n",
      "41972  2016-03-14          8.0       0\n",
      "41970  2016-03-15          8.0       0\n",
      "41966  2016-03-16          8.0       0\n",
      "41912  2016-03-17          8.0       0\n",
      "41915  2016-03-18          8.0       0\n",
      "41938  2016-03-19          8.0       0\n",
      "41938  2016-03-20          8.0       0\n",
      "41937  2016-03-21          8.0       0\n",
      "41913  2016-03-22          8.0       0\n",
      "42493  2016-03-23          8.0       0\n",
      "42490  2016-03-24          8.0       0\n",
      "42491  2016-03-25          8.0       0\n",
      "42491  2016-03-26          8.0       0\n",
      "42493  2016-03-27          8.0       0\n",
      "42494  2016-03-28          8.0       0\n",
      "42494  2016-03-29          8.0       0\n",
      "42459  2016-03-30          8.0       0\n",
      "42391  2016-03-31          8.0       0\n",
      "42390  2016-04-01          8.0       0\n",
      "42394  2016-04-02          8.0       0\n",
      "42394  2016-04-03          8.0       0\n",
      "42394  2016-04-04          8.0       1\n",
      "\n",
      "[95 rows x 3 columns]\n"
     ]
    }
   ],
   "source": [
    "# find failure disks\n",
    "failure_disk_group = HitA.loc[HitA['serial_number'].isin(fail_names)].sort_values('date', ascending=True).groupby('serial_number')\n",
    "test_fail_disk = failure_disk_group.get_group(fail_names[20])[['date', 'smart_5_raw', 'failure']]\n",
    "print(test_fail_disk)"
   ]
  },
  {
   "cell_type": "code",
   "execution_count": 76,
   "metadata": {},
   "outputs": [
    {
     "data": {
      "text/plain": [
       "67"
      ]
     },
     "execution_count": 76,
     "metadata": {},
     "output_type": "execute_result"
    }
   ],
   "source": [
    "# find change point on each attr, (use smart_5_raw as an example)\n",
    "reload(find_cpt)\n",
    "data = failure_disk_group.get_group(fail_names[20])['smart_5_raw'].values\n",
    "tmp = find_cpt.cpt(data=data, type='normal-mean')\n",
    "tmp.find_changepoint()"
   ]
  },
  {
   "cell_type": "code",
   "execution_count": 102,
   "metadata": {},
   "outputs": [
    {
     "name": "stdout",
     "output_type": "stream",
     "text": [
      "serial_number\n",
      "JK1101B9GEJEUF    26\n",
      "JK1101B9J301EF     1\n",
      "JK1101B9JP60TU    -1\n",
      "JK1101B9JPVHXF     8\n",
      "JK1101B9JS452R    20\n",
      "JK1101YBK2Z6AF    -1\n",
      "JK1104B8GGGBXW    13\n",
      "JK1105B8GA6AYX     1\n",
      "JK1105B8GDLYGX    -1\n",
      "JK1105B8GDM6PX     2\n",
      "JK1105B8GG422X     5\n",
      "JK1105B8GG4X7X    -1\n",
      "JK1105B8GHLUBX    -1\n",
      "JK1105B8GHWJZX    28\n",
      "JK1105B8J10GXX     1\n",
      "JK1105B8JS2ELX    -1\n",
      "JK1131YAHP3NEV    21\n",
      "JK1131YAJHRBBV    -1\n",
      "JK1131YAJJ445V    -1\n",
      "JK1131YAJK6ELV    -1\n",
      "JK1170YAJDANDT    -1\n",
      "JK1171B9HDB4KT    -1\n",
      "JK1171YAK1XBLN    -1\n",
      "JK1171YAK202SN    10\n",
      "JK1171YAK2045N     5\n",
      "JK1171YBK1M69F    -1\n",
      "JK1180YAGXSE7T    -1\n",
      "JK11A4B8HY123W    -1\n",
      "JK11A5B8KK8SKX    -1\n",
      "JK11A8B9GPHTNF    -1\n",
      "JK11A8B9HTY23F    -1\n",
      "JK11A8B9J0U7DF     5\n",
      "JK11A8B9J2YZTF     3\n",
      "JK11A8B9J388ZF    -1\n",
      "JK11A8B9J3L76F    33\n",
      "JK11A8B9J67Z0F     1\n",
      "JK11A8B9J6KXNF    -1\n",
      "JK11A8B9J78DUF    -1\n",
      "JK11A8B9J7A2JF    31\n",
      "JK11A8B9J7A49F    -1\n",
      "JK11A8B9J7A7TF    -1\n",
      "JK11A8B9J7NRRF     1\n",
      "JK11A8B9J7NWWF    -1\n",
      "JK11A8B9J90WMF    -1\n",
      "JK11A8YBKY5JVF    -1\n",
      "JK11A8YBKYTDGF    30\n",
      "JK11A8YBKYWW1F    -1\n",
      "JK11E1B9K0M03T     1\n",
      "Name: smart_5_raw, dtype: int64\n"
     ]
    }
   ],
   "source": [
    "reload(find_cpt)\n",
    "del cpt_series\n",
    "def get_cpt(data):\n",
    "    changepoint = find_cpt.cpt(data=data, type='normal-mean').find_changepoint()\n",
    "    if changepoint > 0:\n",
    "        return data.size - changepoint\n",
    "    return changepoint\n",
    "\n",
    "cpt_series = failure_disk_group['smart_5_raw'].apply(get_cpt)\n",
    "print(cpt_series)"
   ]
  },
  {
   "cell_type": "code",
   "execution_count": 109,
   "metadata": {},
   "outputs": [
    {
     "name": "stdout",
     "output_type": "stream",
     "text": [
      "0.4375\n",
      "11.714285714285714\n"
     ]
    }
   ],
   "source": [
    "# get median to do smoothing\n",
    "cpt_corr_percentage = cpt_series[cpt_series>0].size / cpt_series.size\n",
    "cpt_med = cpt_series[cpt_series>0].mean()\n",
    "print(cpt_corr_percentage)\n",
    "print(cpt_med)"
   ]
  },
  {
   "cell_type": "code",
   "execution_count": 110,
   "metadata": {},
   "outputs": [
    {
     "name": "stderr",
     "output_type": "stream",
     "text": [
      "C:\\Users\\Ray\\Anaconda3\\lib\\site-packages\\ipykernel_launcher.py:1: FutureWarning: pd.ewm_mean is deprecated for ndarrays and will be removed in a future version\n",
      "  \"\"\"Entry point for launching an IPython kernel.\n"
     ]
    },
    {
     "data": {
      "text/plain": [
       "array([7.        , 7.        , 7.        , 7.        , 7.        ,\n",
       "       7.        , 7.        , 7.        , 7.        , 7.        ,\n",
       "       7.        , 7.        , 7.        , 7.        , 7.        ,\n",
       "       7.        , 7.        , 7.        , 7.        , 7.        ,\n",
       "       7.        , 7.        , 7.        , 7.        , 7.        ,\n",
       "       7.        , 7.        , 7.        , 7.        , 7.        ,\n",
       "       7.        , 7.        , 7.        , 7.        , 7.        ,\n",
       "       7.        , 7.        , 7.        , 7.        , 7.        ,\n",
       "       7.        , 7.        , 7.        , 7.        , 7.        ,\n",
       "       7.        , 7.        , 7.        , 7.        , 7.        ,\n",
       "       7.        , 7.        , 7.        , 7.        , 7.        ,\n",
       "       7.        , 7.        , 7.        , 7.        , 7.        ,\n",
       "       7.        , 7.        , 7.        , 7.        , 7.        ,\n",
       "       7.        , 7.        , 7.07725736, 7.1485222 , 7.21426287,\n",
       "       7.27491058, 7.33086246, 7.38248427, 7.43011297, 7.47405902,\n",
       "       7.5146085 , 7.55202508, 7.58655179, 7.61841265, 7.64781421,\n",
       "       7.6749469 , 7.69998631, 7.72309438, 7.74442045, 7.76410226,\n",
       "       7.78226685, 7.7990314 , 7.81450403, 7.82878446, 7.84196469,\n",
       "       7.8541296 , 7.86535752, 7.87572069, 7.8852858 , 7.89411437])"
      ]
     },
     "execution_count": 110,
     "metadata": {},
     "output_type": "execute_result"
    }
   ],
   "source": [
    "pd.ewma(data, 12)"
   ]
  },
  {
   "cell_type": "code",
   "execution_count": 59,
   "metadata": {},
   "outputs": [
    {
     "data": {
      "text/plain": [
       "35       2016-01-01\n",
       "41       2016-01-01\n",
       "62       2016-01-01\n",
       "70       2016-01-01\n",
       "103      2016-01-01\n",
       "124      2016-01-01\n",
       "126      2016-01-01\n",
       "141      2016-01-01\n",
       "158      2016-01-01\n",
       "174      2016-01-01\n",
       "177      2016-01-01\n",
       "189      2016-01-01\n",
       "190      2016-01-01\n",
       "251      2016-01-01\n",
       "252      2016-01-01\n",
       "258      2016-01-01\n",
       "261      2016-01-01\n",
       "272      2016-01-01\n",
       "288      2016-01-01\n",
       "305      2016-01-01\n",
       "326      2016-01-01\n",
       "350      2016-01-01\n",
       "357      2016-01-01\n",
       "362      2016-01-01\n",
       "364      2016-01-01\n",
       "383      2016-01-01\n",
       "390      2016-01-01\n",
       "396      2016-01-01\n",
       "422      2016-01-01\n",
       "437      2016-01-01\n",
       "            ...    \n",
       "88997    2016-01-01\n",
       "93271    2016-01-01\n",
       "94014    2016-01-01\n",
       "94473    2016-01-01\n",
       "94989    2016-01-01\n",
       "95926    2016-01-01\n",
       "97389    2016-01-01\n",
       "97863    2016-01-01\n",
       "97905    2016-01-01\n",
       "99133    2016-01-01\n",
       "41974    2016-01-01\n",
       "61537    2016-01-01\n",
       "63952    2016-01-01\n",
       "88068    2016-01-01\n",
       "97801    2016-01-01\n",
       "41972    2016-01-01\n",
       "61534    2016-01-01\n",
       "63949    2016-01-01\n",
       "88067    2016-01-01\n",
       "97800    2016-01-01\n",
       "41972    2016-01-01\n",
       "61534    2016-01-01\n",
       "63949    2016-01-01\n",
       "88067    2016-01-01\n",
       "97800    2016-01-01\n",
       "41971    2016-01-01\n",
       "61534    2016-01-01\n",
       "63949    2016-01-01\n",
       "88067    2016-01-01\n",
       "97800    2016-01-01\n",
       "Name: date, Length: 938263, dtype: object"
      ]
     },
     "execution_count": 59,
     "metadata": {},
     "output_type": "execute_result"
    }
   ],
   "source": [
    "# calculate the healthy disks' average attr\n",
    "HitA.loc[HitA['serial_number'] == 'JK11A8B9HTY23F'][['serial_number', 'smart_5_raw', 'date']].head(100)\n",
    "HitA.loc[(HitA['failure'] == 0) & (HitA['date'] >= test_fail_disk['date'].head(1).values[0]) & (HitA['date'] <= test_fail_disk['date'].tail(1).values[0])].groupby('date')['smart_5_raw'].mean()\n",
    "result.loc[result['date'] > '2016-01-01']"
   ]
  },
  {
   "cell_type": "code",
   "execution_count": null,
   "metadata": {},
   "outputs": [],
   "source": []
  }
 ],
 "metadata": {
  "kernelspec": {
   "display_name": "Python 3",
   "language": "python",
   "name": "python3"
  },
  "language_info": {
   "codemirror_mode": {
    "name": "ipython",
    "version": 3
   },
   "file_extension": ".py",
   "mimetype": "text/x-python",
   "name": "python",
   "nbconvert_exporter": "python",
   "pygments_lexer": "ipython3",
   "version": "3.6.4"
  }
 },
 "nbformat": 4,
 "nbformat_minor": 2
}
