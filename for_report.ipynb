{
 "cells": [
  {
   "cell_type": "code",
   "execution_count": 1,
   "metadata": {},
   "outputs": [],
   "source": [
    "import numpy as np\n",
    "import pandas as pd\n",
    "import os\n",
    "from importlib import reload\n",
    "import find_cpt\n",
    "from rgf.sklearn import RGFClassifier\n",
    "from sklearn.cluster import KMeans\n",
    "from sklearn.linear_model import LogisticRegression, LogisticRegressionCV\n",
    "from sklearn.svm import SVC\n",
    "from sklearn.model_selection import KFold, cross_val_score, RandomizedSearchCV, GridSearchCV\n",
    "from sklearn.naive_bayes import GaussianNB, MultinomialNB, BernoulliNB\n",
    "from sklearn.ensemble import RandomForestClassifier, GradientBoostingClassifier\n",
    "from sklearn.tree import DecisionTreeClassifier\n",
    "from sklearn.metrics import precision_score, recall_score, f1_score\n",
    "data_dir = \"./data\"\n",
    "summary = pd.read_csv('./preprocess/summarize.csv')"
   ]
  },
  {
   "cell_type": "code",
   "execution_count": 19,
   "metadata": {},
   "outputs": [
    {
     "name": "stdout",
     "output_type": "stream",
     "text": [
      "Index(['smart_242_raw', 'smart_7_raw', 'smart_193_raw', 'smart_9_raw',\n",
      "       'smart_240_raw', 'smart_190_normalized', 'smart_190_raw',\n",
      "       'smart_194_raw', 'smart_194_normalized', 'smart_9_normalized',\n",
      "       'smart_198_raw', 'smart_197_raw', 'smart_241_raw', 'smart_7_normalized',\n",
      "       'smart_187_normalized', 'smart_187_raw', 'smart_4_raw', 'smart_12_raw',\n",
      "       'smart_1_normalized', 'smart_193_normalized', 'smart_1_raw',\n",
      "       'smart_5_raw', 'smart_3_normalized', 'smart_183_raw',\n",
      "       'smart_183_normalized', 'smart_198_normalized', 'smart_197_normalized',\n",
      "       'smart_5_normalized', 'smart_192_raw', 'smart_189_raw',\n",
      "       'smart_189_normalized', 'smart_184_normalized', 'smart_184_raw'],\n",
      "      dtype='object')\n"
     ]
    }
   ],
   "source": [
    "tmp = summary.loc[0].iloc[1:].sort_values(ascending=False)\n",
    "print(tmp[tmp > 0.01].index)"
   ]
  },
  {
   "cell_type": "code",
   "execution_count": null,
   "metadata": {},
   "outputs": [],
   "source": []
  }
 ],
 "metadata": {
  "kernelspec": {
   "display_name": "Python 3",
   "language": "python",
   "name": "python3"
  },
  "language_info": {
   "codemirror_mode": {
    "name": "ipython",
    "version": 3
   },
   "file_extension": ".py",
   "mimetype": "text/x-python",
   "name": "python",
   "nbconvert_exporter": "python",
   "pygments_lexer": "ipython3",
   "version": "3.6.4"
  }
 },
 "nbformat": 4,
 "nbformat_minor": 2
}
