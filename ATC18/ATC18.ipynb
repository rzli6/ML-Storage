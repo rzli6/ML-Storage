{
 "cells": [
  {
   "cell_type": "code",
   "execution_count": 319,
   "metadata": {},
   "outputs": [],
   "source": [
    "import numpy as np\n",
    "import pandas as pd\n",
    "import os, datetime\n",
    "from sklearn.ensemble import GradientBoostingRegressor, RandomForestRegressor\n",
    "import matplotlib.pyplot as plt\n",
    "from sklearn.metrics import f1_score"
   ]
  },
  {
   "cell_type": "code",
   "execution_count": 3,
   "metadata": {},
   "outputs": [],
   "source": [
    "test = pd.read_csv('../data/data-2018/2018-01-01.csv')\n",
    "data_dirs = ['../data/atc18/']\n",
    "model_name = 'ST4000DM000'\n",
    "all_features = list(test.loc[test['model'] == model_name].dropna(axis=1, how='all').columns.values)\n",
    "def process(df, name):\n",
    "    df = df.loc[df['model'] == name]\n",
    "    return df[all_features]\n",
    "type_dict = {feature: np.float32 for feature in all_features[5:]}\n",
    "model = pd.concat([process(pd.read_csv(os.path.join(data_dir, filename), dtype=type_dict), model_name) for data_dir in data_dirs for filename in os.listdir(data_dir)])\n",
    "model_dropped = model.dropna(axis='columns', how='all').drop(['model', 'capacity_bytes', 'failure'], axis='columns').sort_values(by='date', ascending=True)"
   ]
  },
  {
   "cell_type": "code",
   "execution_count": 140,
   "metadata": {},
   "outputs": [
    {
     "data": {
      "text/plain": [
       "array(['Z3011RDM', 'Z3025RLA', 'Z3014BW4', 'Z30056BA', 'Z3025KPZ',\n",
       "       'W300BNKB', 'Z3012X9J', 'Z304JHWK', 'Z304JWPG', 'Z300K0PL',\n",
       "       'Z305KVMN', 'Z3025LLE', 'W300BZEQ', 'Z300WKJ9', 'Z302511G',\n",
       "       'Z300ZSKJ', 'Z300V5RQ', 'S300YSL6', 'Z305TDEN', 'Z301570R',\n",
       "       'S301N8DJ', 'Z305D5V7', 'Z300JE88', 'Z304KCCQ', 'Z30149VM',\n",
       "       'Z304HZQA', 'Z303GGET', 'Z303Z7QT', 'Z300MW5G', 'S300YC5D',\n",
       "       'Z300XEBY', 'Z305GXYQ', 'Z300XCKR', 'Z300P8XS', 'Z300WQJW',\n",
       "       'Z305DH7P', 'Z304JW0M', 'W300BVRK', 'S30107GG', 'Z3058P3G',\n",
       "       'Z305D4XN', 'S300ZRYS', 'Z300GQF8', 'W300BBDL', 'Z304PDKE',\n",
       "       'Z3059YMB', 'Z302AKX9', 'S300YQF1', 'Z3010V8X', 'Z3024W0K',\n",
       "       'Z3051XFQ', 'Z3044ZL9', 'Z305DH06', 'Z300GQ50', 'Z3025WBK',\n",
       "       'Z3035QGV', 'Z300E448', 'Z30561XX', 'Z304JA3E', 'Z305GVS4',\n",
       "       'Z300GZ84', 'Z3014QG6', 'S301NG7A', 'Z3025M6M', 'Z304HSSW',\n",
       "       'Z305GL2B', 'Z300W64Q', 'Z305CX1N', 'Z304KBNL', 'W300BN1L',\n",
       "       'Z300XEFF', 'Z300W0XD', 'S300ABFR', 'Z305CTFS', 'S300Z5G1',\n",
       "       'Z300WNM9', 'Z300KHMR', 'Z30538L1', 'S300WDZ3', 'Z300YLV6',\n",
       "       'W300BM2Y', 'Z300ZT81', 'S300Z40T', 'Z300W54N', 'Z300DM26',\n",
       "       'Z303QQR3', 'W3011R2C', 'Z304LA3D', 'W300BDR3', 'Z304JGPQ',\n",
       "       'Z305ARQL', 'Z305D6TS', 'Z300CMZR', 'Z304H8A8', 'W300J66C',\n",
       "       'S300Z48Z', 'S301KQZP', 'Z3011WM3', 'Z3015PTZ', 'Z302SF3N',\n",
       "       'Z304919P', 'Z3015C4N', 'Z3011WR7', 'W300BJAF', 'W300EA8Z',\n",
       "       'S300Z63K', 'Z300ZV9C', 'Z3014PFG', 'Z3029BCJ', 'S301KAWV',\n",
       "       'Z3015LGJ', 'Z3015LGQ', 'Z3016SCG', 'Z304K09H', 'Z300ZQWP',\n",
       "       'Z3058W51', 'W300B5PW', 'Z3029F9L', 'Z302T66W', 'W300BGZ4',\n",
       "       'W300J3AP', 'Z3057BXR', 'Z300GQBM', 'Z300KCRL', 'Z304H7CV',\n",
       "       'Z300ZV0V', 'Z305FMDC', 'S30117ZH', 'Z302SZN6', 'S300ZNVD',\n",
       "       'Z300PML1', 'Z300CR1Z', 'Z3025D4M', 'S300Z5PN', 'Z300K93Q',\n",
       "       'Z304PFSA', 'Z300WPH7', 'S300Z5K2', 'Z3056BR1', 'Z304X7TV',\n",
       "       'Z300W1Y6', 'Z304JHPV', 'Z30250R8', 'Z302A14W', 'Z302NSPV',\n",
       "       'Z300GZA1', 'S301GTN0', 'Z300MX92', 'Z300Z2BH', 'Z303BK1Z',\n",
       "       'Z300H3F6', 'S301NH5Z', 'Z305GJJF', 'Z304HQVE', 'Z3015J5W',\n",
       "       'S30115ZL', 'W30065CH', 'S300Z6AF', 'Z3052V17', 'Z304L9M8',\n",
       "       'Z304H3GQ', 'Z305D5EH', 'Z302T6GE', 'W3004Z1A', 'Z305D5VD',\n",
       "       'Z300GQB6', 'S30113S5', 'S301NKTA', 'Z302DKNK', 'Z300GQG5',\n",
       "       'W300D2HH', 'S300XB3J', 'Z3025PNP', 'Z3025M3K', 'Z302A14T',\n",
       "       'Z3016RJ5', 'Z3036CV2', 'Z303XYRS', 'Z307STTY', 'Z305AR1M',\n",
       "       'Z305GXWW', 'Z302B121', 'Z302A12M', 'Z304JD17', 'Z3015CL7',\n",
       "       'Z3059CAF', 'S3015EJ2', 'S301LJZS', 'Z30260XN', 'S3010GYR',\n",
       "       'Z300DL92', 'Z304C6RW', 'Z300ZTPP', 'W300BNY9', 'S300XSJ8',\n",
       "       'Z302B0HT', 'S300W7HS', 'W300BH8A', 'Z3059KPY', 'Z304HRNE',\n",
       "       'Z3055XCP', 'Z300GYL3', 'Z3015GTC', 'Z305HW51', 'W300BH3J',\n",
       "       'Z30427BT', 'Z3058L2W', 'Z302AYP0', 'Z3016QT3', 'Z305CWS9',\n",
       "       'S300VKP4', 'Z3029F5K', 'Z3025LKK', 'Z304TPF3', 'Z30149RX',\n",
       "       'S300Z7TB', 'Z302517L', 'Z3029GLM', 'Z3029GV9', 'S300VL64',\n",
       "       'Z300X288', 'Z305GZ8J', 'Z302SZHA', 'S300Z75T', 'Z30149KC',\n",
       "       'Z30250HT', 'Z302701J', 'Z300GZCV', 'Z300X1KZ', 'Z3025LH2',\n",
       "       'Z304JPGD', 'Z3029GJ1'], dtype=object)"
      ]
     },
     "execution_count": 140,
     "metadata": {},
     "output_type": "execute_result"
    }
   ],
   "source": [
    "model_dropped = model_dropped[[c for c in model_dropped.columns if c.lower()[-10:] != 'normalized']]\n",
    "err_names = model_dropped.loc[model_dropped['smart_5_raw'] > 0]['serial_number'].unique()\n",
    "err_names"
   ]
  },
  {
   "cell_type": "code",
   "execution_count": 175,
   "metadata": {},
   "outputs": [
    {
     "data": {
      "text/plain": [
       "(3487, 26)"
      ]
     },
     "execution_count": 175,
     "metadata": {},
     "output_type": "execute_result"
    }
   ],
   "source": [
    "err_disks = model_dropped.loc[model_dropped['serial_number'].isin(err_names)].reset_index(drop=True)\n",
    "before_err = err_disks.loc[err_disks['smart_5_raw'] == 0]\n",
    "before_err.shape"
   ]
  },
  {
   "cell_type": "code",
   "execution_count": 216,
   "metadata": {},
   "outputs": [
    {
     "data": {
      "text/html": [
       "<div>\n",
       "<style scoped>\n",
       "    .dataframe tbody tr th:only-of-type {\n",
       "        vertical-align: middle;\n",
       "    }\n",
       "\n",
       "    .dataframe tbody tr th {\n",
       "        vertical-align: top;\n",
       "    }\n",
       "\n",
       "    .dataframe thead th {\n",
       "        text-align: right;\n",
       "    }\n",
       "</style>\n",
       "<table border=\"1\" class=\"dataframe\">\n",
       "  <thead>\n",
       "    <tr style=\"text-align: right;\">\n",
       "      <th></th>\n",
       "      <th>date</th>\n",
       "      <th>serial_number</th>\n",
       "      <th>smart_1_raw</th>\n",
       "      <th>smart_3_raw</th>\n",
       "      <th>smart_4_raw</th>\n",
       "      <th>smart_5_raw</th>\n",
       "      <th>smart_7_raw</th>\n",
       "      <th>smart_9_raw</th>\n",
       "      <th>smart_10_raw</th>\n",
       "      <th>smart_12_raw</th>\n",
       "      <th>...</th>\n",
       "      <th>smart_193_raw_sum</th>\n",
       "      <th>smart_194_raw_sum</th>\n",
       "      <th>smart_197_raw_sum</th>\n",
       "      <th>smart_198_raw_sum</th>\n",
       "      <th>smart_199_raw_sum</th>\n",
       "      <th>smart_240_raw_sum</th>\n",
       "      <th>smart_241_raw_sum</th>\n",
       "      <th>smart_242_raw_sum</th>\n",
       "      <th>broken_day</th>\n",
       "      <th>y</th>\n",
       "    </tr>\n",
       "  </thead>\n",
       "  <tbody>\n",
       "    <tr>\n",
       "      <th>0</th>\n",
       "      <td>2017-10-07</td>\n",
       "      <td>Z30427BT</td>\n",
       "      <td>367920.0</td>\n",
       "      <td>0.0</td>\n",
       "      <td>9.0</td>\n",
       "      <td>0.0</td>\n",
       "      <td>899242304.0</td>\n",
       "      <td>18148.0</td>\n",
       "      <td>0.0</td>\n",
       "      <td>9.0</td>\n",
       "      <td>...</td>\n",
       "      <td>108110.0</td>\n",
       "      <td>142.0</td>\n",
       "      <td>0.0</td>\n",
       "      <td>0.0</td>\n",
       "      <td>0.0</td>\n",
       "      <td>89913.0</td>\n",
       "      <td>1.116318e+11</td>\n",
       "      <td>8.625685e+11</td>\n",
       "      <td>2017-11-30</td>\n",
       "      <td>55 days</td>\n",
       "    </tr>\n",
       "    <tr>\n",
       "      <th>1</th>\n",
       "      <td>2017-10-07</td>\n",
       "      <td>Z3015GTC</td>\n",
       "      <td>225721344.0</td>\n",
       "      <td>0.0</td>\n",
       "      <td>12.0</td>\n",
       "      <td>0.0</td>\n",
       "      <td>601222592.0</td>\n",
       "      <td>28226.0</td>\n",
       "      <td>0.0</td>\n",
       "      <td>12.0</td>\n",
       "      <td>...</td>\n",
       "      <td>192875.0</td>\n",
       "      <td>132.0</td>\n",
       "      <td>0.0</td>\n",
       "      <td>0.0</td>\n",
       "      <td>0.0</td>\n",
       "      <td>140110.0</td>\n",
       "      <td>1.192434e+11</td>\n",
       "      <td>7.740114e+11</td>\n",
       "      <td>2017-11-22</td>\n",
       "      <td>47 days</td>\n",
       "    </tr>\n",
       "    <tr>\n",
       "      <th>2</th>\n",
       "      <td>2017-10-07</td>\n",
       "      <td>Z3059KPY</td>\n",
       "      <td>84057136.0</td>\n",
       "      <td>0.0</td>\n",
       "      <td>6.0</td>\n",
       "      <td>0.0</td>\n",
       "      <td>440060224.0</td>\n",
       "      <td>16180.0</td>\n",
       "      <td>0.0</td>\n",
       "      <td>5.0</td>\n",
       "      <td>...</td>\n",
       "      <td>949069.0</td>\n",
       "      <td>95.0</td>\n",
       "      <td>80.0</td>\n",
       "      <td>80.0</td>\n",
       "      <td>0.0</td>\n",
       "      <td>75516.0</td>\n",
       "      <td>1.173629e+11</td>\n",
       "      <td>2.182675e+11</td>\n",
       "      <td>2017-11-19</td>\n",
       "      <td>44 days</td>\n",
       "    </tr>\n",
       "    <tr>\n",
       "      <th>3</th>\n",
       "      <td>2017-10-07</td>\n",
       "      <td>Z307STTY</td>\n",
       "      <td>98514288.0</td>\n",
       "      <td>0.0</td>\n",
       "      <td>4.0</td>\n",
       "      <td>0.0</td>\n",
       "      <td>18237500.0</td>\n",
       "      <td>1413.0</td>\n",
       "      <td>0.0</td>\n",
       "      <td>4.0</td>\n",
       "      <td>...</td>\n",
       "      <td>236205.0</td>\n",
       "      <td>155.0</td>\n",
       "      <td>0.0</td>\n",
       "      <td>0.0</td>\n",
       "      <td>0.0</td>\n",
       "      <td>5928.0</td>\n",
       "      <td>3.985225e+10</td>\n",
       "      <td>1.519400e+10</td>\n",
       "      <td>2017-10-27</td>\n",
       "      <td>21 days</td>\n",
       "    </tr>\n",
       "    <tr>\n",
       "      <th>4</th>\n",
       "      <td>2017-10-07</td>\n",
       "      <td>Z3029GV9</td>\n",
       "      <td>205300000.0</td>\n",
       "      <td>0.0</td>\n",
       "      <td>8.0</td>\n",
       "      <td>0.0</td>\n",
       "      <td>33200312.0</td>\n",
       "      <td>23741.0</td>\n",
       "      <td>0.0</td>\n",
       "      <td>8.0</td>\n",
       "      <td>...</td>\n",
       "      <td>62995.0</td>\n",
       "      <td>103.0</td>\n",
       "      <td>160.0</td>\n",
       "      <td>160.0</td>\n",
       "      <td>0.0</td>\n",
       "      <td>118138.0</td>\n",
       "      <td>1.199221e+11</td>\n",
       "      <td>1.006969e+12</td>\n",
       "      <td>2017-12-10</td>\n",
       "      <td>65 days</td>\n",
       "    </tr>\n",
       "  </tbody>\n",
       "</table>\n",
       "<p>5 rows × 100 columns</p>\n",
       "</div>"
      ],
      "text/plain": [
       "        date serial_number  smart_1_raw  smart_3_raw  smart_4_raw  \\\n",
       "0 2017-10-07      Z30427BT     367920.0          0.0          9.0   \n",
       "1 2017-10-07      Z3015GTC  225721344.0          0.0         12.0   \n",
       "2 2017-10-07      Z3059KPY   84057136.0          0.0          6.0   \n",
       "3 2017-10-07      Z307STTY   98514288.0          0.0          4.0   \n",
       "4 2017-10-07      Z3029GV9  205300000.0          0.0          8.0   \n",
       "\n",
       "   smart_5_raw  smart_7_raw  smart_9_raw  smart_10_raw  smart_12_raw   ...    \\\n",
       "0          0.0  899242304.0      18148.0           0.0           9.0   ...     \n",
       "1          0.0  601222592.0      28226.0           0.0          12.0   ...     \n",
       "2          0.0  440060224.0      16180.0           0.0           5.0   ...     \n",
       "3          0.0   18237500.0       1413.0           0.0           4.0   ...     \n",
       "4          0.0   33200312.0      23741.0           0.0           8.0   ...     \n",
       "\n",
       "   smart_193_raw_sum  smart_194_raw_sum  smart_197_raw_sum  smart_198_raw_sum  \\\n",
       "0           108110.0              142.0                0.0                0.0   \n",
       "1           192875.0              132.0                0.0                0.0   \n",
       "2           949069.0               95.0               80.0               80.0   \n",
       "3           236205.0              155.0                0.0                0.0   \n",
       "4            62995.0              103.0              160.0              160.0   \n",
       "\n",
       "   smart_199_raw_sum  smart_240_raw_sum  smart_241_raw_sum  smart_242_raw_sum  \\\n",
       "0                0.0            89913.0       1.116318e+11       8.625685e+11   \n",
       "1                0.0           140110.0       1.192434e+11       7.740114e+11   \n",
       "2                0.0            75516.0       1.173629e+11       2.182675e+11   \n",
       "3                0.0             5928.0       3.985225e+10       1.519400e+10   \n",
       "4                0.0           118138.0       1.199221e+11       1.006969e+12   \n",
       "\n",
       "   broken_day       y  \n",
       "0  2017-11-30 55 days  \n",
       "1  2017-11-22 47 days  \n",
       "2  2017-11-19 44 days  \n",
       "3  2017-10-27 21 days  \n",
       "4  2017-12-10 65 days  \n",
       "\n",
       "[5 rows x 100 columns]"
      ]
     },
     "execution_count": 216,
     "metadata": {},
     "output_type": "execute_result"
    }
   ],
   "source": [
    "grouped = before_err.groupby(['serial_number'], as_index=False)\n",
    "features = [c for c in before_err.columns if c[-3:] == 'raw']\n",
    "# get the difference of the data of a window with size 3\n",
    "diff = grouped[features].transform(pd.DataFrame.diff, 3)\n",
    "\n",
    "# get variance of the data of a window with size 7\n",
    "sigma = grouped[features].transform(lambda x: x.rolling(7).var())\n",
    "\n",
    "# get the sum of attribute valuse within a window with size 5\n",
    "summation = grouped[features].transform(lambda x: x.rolling(5).sum())\n",
    "\n",
    "# add the transformed data to the attributes\n",
    "dataset = before_err.copy()\n",
    "dataset = dataset.join(other=diff, how='inner', rsuffix='_diff')\n",
    "dataset = dataset.join(other=sigma, how='inner', rsuffix='_sigma')\n",
    "dataset = dataset.join(other=summation, how='inner', rsuffix='_sum')\n",
    "dataset.shape\n",
    "dataset = dataset.dropna().sort_values(by=['date'], ascending=True).reset_index(drop=True)\n",
    "dataset['date'] = pd.to_datetime(dataset['date'])\n",
    "dataset['broken_day'] = dataset.groupby('serial_number')['date'].transform(lambda x: x.max())\n",
    "dataset['y'] = dataset['broken_day']  - dataset['date'] + datetime.timedelta(days=1)\n",
    "\n",
    "dataset.to_csv('./preprocess/dataset.csv')\n",
    "dataset.head()"
   ]
  },
  {
   "cell_type": "code",
   "execution_count": 274,
   "metadata": {},
   "outputs": [],
   "source": [
    "def get_result(y_test, y_pred, threshold):\n",
    "    pred = [1 if i < threshold else 0 for i in y_pred]\n",
    "    true = [1 if i < threshold else 0 for i in y_test]\n",
    "    return (true, pred)\n",
    "\n",
    "def perf_measure(y_actual, y_hat):\n",
    "    TP = 0\n",
    "    FP = 0\n",
    "    TN = 0\n",
    "    FN = 0\n",
    "\n",
    "    for i in range(len(y_hat)): \n",
    "        if y_actual[i]==y_hat[i]==1:\n",
    "           TP += 1\n",
    "        if y_hat[i]==1 and y_actual[i]!=y_hat[i]:\n",
    "           FP += 1\n",
    "        if y_actual[i]==y_hat[i]==0:\n",
    "           TN += 1\n",
    "        if y_hat[i]==0 and y_actual[i]!=y_hat[i]:\n",
    "           FN += 1\n",
    "    return(TP, FP, TN, FN)"
   ]
  },
  {
   "cell_type": "code",
   "execution_count": 317,
   "metadata": {},
   "outputs": [
    {
     "name": "stdout",
     "output_type": "stream",
     "text": [
      "0.8661157024793389\n"
     ]
    }
   ],
   "source": [
    "training_set = dataset.loc[dataset['broken_day'].astype(str) < '2017-12-01'].copy()\n",
    "testing_set = dataset.loc[(dataset['broken_day'].astype(str) >= '2017-12-01') & (dataset['date'].astype(str) >= '2017-12-01')].copy()    \n",
    "all_features = [c for c in training_set.columns if c[:5] == 'smart']\n",
    "removed_features = []\n",
    "\n",
    "y_train = training_set['y'].dt.days\n",
    "y_test = testing_set['y'].dt.days\n",
    "X_train = training_set[all_features].astype(np.float32)\n",
    "X_test = testing_set[all_features].astype(np.float32)\n",
    "    \n",
    "gbr_model = GradientBoostingRegressor()\n",
    "gbr_model.fit(X_train, y_train)\n",
    "y_pred = gbr_model.predict(X_test)\n",
    "\n",
    "uni_threshold = 20\n",
    "true, pred = get_result(y_test, y_pred, uni_threshold)\n",
    "max_f1 = f1_score(true, pred)\n",
    "\n",
    "for i in all_features: \n",
    "    selected_features = [c for c in all_features if c not in removed_features and c != i]\n",
    "    X_train = training_set[selected_features].astype(np.float32)\n",
    "    X_test = testing_set[selected_features].astype(np.float32)\n",
    "    gbr_model = GradientBoostingRegressor()\n",
    "    gbr_model.fit(X_train, y_train)\n",
    "    y_pred = gbr_model.predict(X_test)\n",
    "    true, pred = get_result(y_test, y_pred, uni_threshold)\n",
    "    f1 = f1_score(true, pred)\n",
    "    if f1 > max_f1:\n",
    "        max_f1 = f1\n",
    "        removed_features.append(i)\n",
    "print(max_f1)\n",
    "\n",
    "selected_features = [c for c in all_features if c not in removed_features]\n",
    "X_train = training_set[selected_features].astype(np.float32)\n",
    "X_test = testing_set[selected_features].astype(np.float32)\n",
    "# normalization and truly fit\n",
    "X_train_norm = (X_train - X_train.mean()).values\n",
    "X_test_norm = (X_test - X_test.mean()).values\n",
    "gbr_model = GradientBoostingRegressor()\n",
    "gbr_model.fit(X_train_norm, y_train)\n",
    "y_pred = gbr_model.predict(X_test_norm)"
   ]
  },
  {
   "cell_type": "code",
   "execution_count": 318,
   "metadata": {},
   "outputs": [
    {
     "data": {
      "image/png": "[encoded data removed]",
      "text/plain": [
       "<Figure size 432x288 with 1 Axes>"
      ]
     },
     "metadata": {},
     "output_type": "display_data"
    }
   ],
   "source": [
    "y_TPR = []\n",
    "x_FPR = []\n",
    "for thre in range(0, 90):\n",
    "    true, pred = get_result(y_test, y_pred, thre)\n",
    "    TP, FP, TN, FN = perf_measure(true, pred)\n",
    "    if TP+FN == 0 or FP + TN == 0:\n",
    "        continue\n",
    "    FPR = FP / (FP + TN)\n",
    "    TPR = TP / (TP + FN)\n",
    "    y_TPR.append(TPR)\n",
    "    x_FPR.append(FPR)\n",
    "\n",
    "ax = plt.subplot(111)\n",
    "\n",
    "plt.plot(x_FPR, y_TPR, label=\"TPR vs FPR\")\n",
    "plt.plot(np.linspace(0, 1, 10), np.linspace(0, 1, 10), label=\"control\")\n",
    "# t1 = np.arange(0.0, 1.0, 0.01)\n",
    "# for n in [1, 2, 3, 4]:\n",
    "\n",
    "leg = plt.legend(loc='best', ncol=2, shadow=True, fancybox=True)\n",
    "leg.get_frame().set_alpha(0.5)\n",
    "\n",
    "plt.show()"
   ]
  },
  {
   "cell_type": "code",
   "execution_count": 315,
   "metadata": {},
   "outputs": [
    {
     "name": "stdout",
     "output_type": "stream",
     "text": [
      "['smart_1_raw', 'smart_10_raw', 'smart_187_raw', 'smart_189_raw', 'smart_190_raw', 'smart_242_raw']\n"
     ]
    }
   ],
   "source": [
    "print(removed_features)"
   ]
  },
  {
   "cell_type": "code",
   "execution_count": 316,
   "metadata": {},
   "outputs": [
    {
     "name": "stdout",
     "output_type": "stream",
     "text": [
      "[0.029498525073746312, 0.04777070063694268, 0.12758620689655173, 0.16165413533834586, 0.20816326530612245, 0.25892857142857145, 0.28780487804878047, 0.34210526315789475, 0.39204545454545453, 0.5555555555555556, 0.6040268456375839, 0.6691176470588235, 0.6854838709677419, 0.7678571428571429, 0.79, 0.8651685393258427, 0.9240506329113924, 1.0, 1.0, 1.0, 1.0, 1.0, 1.0, 1.0, 1.0, 1.0, 1.0, 1.0]\n",
      "[0.11538461538461539, 0.17647058823529413, 0.29333333333333333, 0.41414141414141414, 0.4083333333333333, 0.41843971631205673, 0.43125, 0.4742857142857143, 0.5291005291005291, 0.5763546798029556, 0.6481481481481481, 0.74235807860262, 0.7593360995850622, 0.782608695652174, 0.8113207547169812, 0.8840579710144928, 0.8951048951048951, 0.9491525423728814, 0.9703947368421053, 0.9871794871794872, 1.0, 1.0, 1.0, 1.0, 1.0, 1.0, 1.0, 1.0]\n"
     ]
    }
   ],
   "source": [
    "print(x_FPR)\n",
    "print(y_TPR)\n",
    "# 0.12, 0.29"
   ]
  },
  {
   "cell_type": "code",
   "execution_count": 336,
   "metadata": {},
   "outputs": [
    {
     "data": {
      "image/png": "[encoded data removed]",
      "text/plain": [
       "<Figure size 432x288 with 1 Axes>"
      ]
     },
     "metadata": {},
     "output_type": "display_data"
    }
   ],
   "source": [
    "training_set = dataset.loc[dataset['broken_day'].astype(str) < '2017-12-01'].copy()\n",
    "testing_set = dataset.loc[(dataset['broken_day'].astype(str) >= '2017-12-01') & (dataset['date'].astype(str) >= '2017-12-01')].copy()    \n",
    "all_features = [c for c in training_set.columns if c[:5] == 'smart']\n",
    "\n",
    "y_train = training_set['y'].dt.days\n",
    "y_test = testing_set['y'].dt.days\n",
    "X_train = training_set[all_features].astype(np.float32)\n",
    "X_test = testing_set[all_features].astype(np.float32)\n",
    "\n",
    "rfg = RandomForestRegressor()\n",
    "rfg.fit(X_train, y_train)\n",
    "importances = rfg.feature_importances_\n",
    "\n",
    "selected_features = [all_features[i] for i in np.argwhere(importances>0.01).reshape((-1,))]\n",
    "X_train = training_set[selected_features].astype(np.float32)\n",
    "X_test = testing_set[selected_features].astype(np.float32)\n",
    "# normalization and truly fit\n",
    "X_train_norm = (X_train - X_train.mean()).values\n",
    "X_test_norm = (X_test - X_test.mean()).values\n",
    "gbr_model = GradientBoostingRegressor()\n",
    "gbr_model.fit(X_train_norm, y_train)\n",
    "y_pred = gbr_model.predict(X_test_norm)\n",
    "\n",
    "y_TPR = []\n",
    "x_FPR = []\n",
    "for thre in range(0, 90):\n",
    "    true, pred = get_result(y_test, y_pred, thre)\n",
    "    TP, FP, TN, FN = perf_measure(true, pred)\n",
    "    if TP+FN == 0 or FP + TN == 0:\n",
    "        continue\n",
    "    FPR = FP / (FP + TN)\n",
    "    TPR = TP / (TP + FN)\n",
    "    y_TPR.append(TPR)\n",
    "    x_FPR.append(FPR)\n",
    "\n",
    "ax = plt.subplot(111)\n",
    "\n",
    "plt.plot(x_FPR, y_TPR, label=\"TPR vs FPR\")\n",
    "plt.plot(np.linspace(0, 1, 10), np.linspace(0, 1, 10), label=\"control\")\n",
    "# t1 = np.arange(0.0, 1.0, 0.01)\n",
    "# for n in [1, 2, 3, 4]:\n",
    "\n",
    "leg = plt.legend(loc='best', ncol=2, shadow=True, fancybox=True)\n",
    "leg.get_frame().set_alpha(0.5)\n",
    "\n",
    "plt.show()"
   ]
  },
  {
   "cell_type": "code",
   "execution_count": 337,
   "metadata": {},
   "outputs": [
    {
     "name": "stdout",
     "output_type": "stream",
     "text": [
      "[0.017699115044247787, 0.03184713375796178, 0.03103448275862069, 0.07142857142857142, 0.10204081632653061, 0.15178571428571427, 0.1902439024390244, 0.23157894736842105, 0.35795454545454547, 0.4876543209876543, 0.5503355704697986, 0.5588235294117647, 0.7096774193548387, 0.7321428571428571, 0.74, 0.7640449438202247, 0.810126582278481, 0.9142857142857143, 1.0, 1.0, 1.0, 1.0, 1.0, 1.0, 1.0, 1.0, 1.0, 1.0]\n",
      "[0.038461538461538464, 0.058823529411764705, 0.12, 0.18181818181818182, 0.25, 0.2624113475177305, 0.3375, 0.37142857142857144, 0.4497354497354497, 0.5123152709359606, 0.5648148148148148, 0.6419213973799127, 0.6970954356846473, 0.7391304347826086, 0.7735849056603774, 0.7934782608695652, 0.8496503496503497, 0.8847457627118644, 0.9177631578947368, 0.9871794871794872, 1.0, 1.0, 1.0, 1.0, 1.0, 1.0, 1.0, 1.0]\n"
     ]
    }
   ],
   "source": [
    "print(x_FPR)\n",
    "print(y_TPR)\n",
    "# 0.102, 0.25"
   ]
  },
  {
   "cell_type": "code",
   "execution_count": 355,
   "metadata": {},
   "outputs": [],
   "source": [
    "from sklearn.feature_selection import chi2\n",
    "\n",
    "training_set = dataset.loc[dataset['broken_day'].astype(str) < '2017-12-01'].copy()\n",
    "testing_set = dataset.loc[(dataset['broken_day'].astype(str) >= '2017-12-01') & (dataset['date'].astype(str) >= '2017-12-01')].copy()    \n",
    "all_features = [c for c in training_set.columns if c[:5] == 'smart']\n",
    "\n",
    "y_train = training_set['y'].dt.days\n",
    "y_test = testing_set['y'].dt.days\n",
    "X_train = training_set[all_features].astype(np.float32)\n",
    "X_test = testing_set[all_features].astype(np.float32)\n",
    "\n",
    "chi2s, p_valures = chi2(X_train - X_train.min(), y_train)\n",
    "selected_features = [all_features[i] for i in list(np.argsort(chi2s))[-30:]]\n",
    "X_train = training_set[selected_features].astype(np.float32)\n",
    "X_test = testing_set[selected_features].astype(np.float32)"
   ]
  },
  {
   "cell_type": "code",
   "execution_count": 356,
   "metadata": {},
   "outputs": [
    {
     "data": {
      "image/png": "[encoded data removed]",
      "text/plain": [
       "<Figure size 432x288 with 1 Axes>"
      ]
     },
     "metadata": {},
     "output_type": "display_data"
    }
   ],
   "source": [
    "# normalization and truly fit\n",
    "X_train_norm = (X_train - X_train.mean())\n",
    "X_test_norm = (X_test - X_test.mean())\n",
    "gbr_model = GradientBoostingRegressor()\n",
    "gbr_model.fit(X_train_norm, y_train)\n",
    "y_pred = gbr_model.predict(X_test_norm)\n",
    "\n",
    "y_TPR = []\n",
    "x_FPR = []\n",
    "for thre in range(0, 90):\n",
    "    true, pred = get_result(y_test, y_pred, thre)\n",
    "    TP, FP, TN, FN = perf_measure(true, pred)\n",
    "    if TP+FN == 0 or FP + TN == 0:\n",
    "        continue\n",
    "    FPR = FP / (FP + TN)\n",
    "    TPR = TP / (TP + FN)\n",
    "    y_TPR.append(TPR)\n",
    "    x_FPR.append(FPR)\n",
    "\n",
    "ax = plt.subplot(111)\n",
    "\n",
    "plt.plot(x_FPR, y_TPR, label=\"TPR vs FPR\")\n",
    "plt.plot(np.linspace(0, 1, 10), np.linspace(0, 1, 10), label=\"control\")\n",
    "# t1 = np.arange(0.0, 1.0, 0.01)\n",
    "# for n in [1, 2, 3, 4]:\n",
    "\n",
    "leg = plt.legend(loc='best', ncol=2, shadow=True, fancybox=True)\n",
    "leg.get_frame().set_alpha(0.5)\n",
    "\n",
    "plt.show()"
   ]
  },
  {
   "cell_type": "code",
   "execution_count": 357,
   "metadata": {},
   "outputs": [
    {
     "name": "stdout",
     "output_type": "stream",
     "text": [
      "[0.0, 0.0, 0.07241379310344828, 0.10526315789473684, 0.1510204081632653, 0.17857142857142858, 0.23414634146341465, 0.30526315789473685, 0.4659090909090909, 0.5, 0.6308724832214765, 0.6911764705882353, 0.7741935483870968, 0.8392857142857143, 0.93, 0.9550561797752809, 1.0, 1.0, 1.0, 1.0, 1.0, 1.0, 1.0, 1.0, 1.0, 1.0, 1.0, 1.0]\n",
      "[0.0, 0.0, 0.06666666666666667, 0.10101010101010101, 0.125, 0.1276595744680851, 0.25, 0.41714285714285715, 0.544973544973545, 0.6059113300492611, 0.7453703703703703, 0.7903930131004366, 0.8091286307053942, 0.849802371541502, 0.9320754716981132, 0.9565217391304348, 0.958041958041958, 0.9593220338983051, 0.9605263157894737, 0.9839743589743589, 0.996875, 0.9969512195121951, 0.9970149253731343, 0.9970760233918129, 0.9971264367816092, 0.9971671388101983, 1.0, 1.0]\n"
     ]
    }
   ],
   "source": [
    "print(x_FPR)\n",
    "print(y_TPR)\n",
    "# 0.105, 0.101"
   ]
  },
  {
   "cell_type": "code",
   "execution_count": 360,
   "metadata": {},
   "outputs": [],
   "source": [
    "from sklearn.feature_selection import mutual_info_classif\n",
    "training_set = dataset.loc[dataset['broken_day'].astype(str) < '2017-12-01'].copy()\n",
    "testing_set = dataset.loc[(dataset['broken_day'].astype(str) >= '2017-12-01') & (dataset['date'].astype(str) >= '2017-12-01')].copy()    \n",
    "all_features = [c for c in training_set.columns if c[:5] == 'smart']\n",
    "\n",
    "y_train = training_set['y'].dt.days\n",
    "y_test = testing_set['y'].dt.days\n",
    "X_train = training_set[all_features].astype(np.float32)\n",
    "X_test = testing_set[all_features].astype(np.float32)\n",
    "importances = mutual_info_classif(X_train, y_train)\n",
    "selected_features = [all_features[i] for i in np.argwhere(importances>0.01).reshape((-1,))]\n",
    "X_train = training_set[selected_features].astype(np.float32)\n",
    "X_test = testing_set[selected_features].astype(np.float32)"
   ]
  },
  {
   "cell_type": "code",
   "execution_count": 361,
   "metadata": {},
   "outputs": [
    {
     "data": {
      "image/png": "[encoded data removed]",
      "text/plain": [
       "<Figure size 432x288 with 1 Axes>"
      ]
     },
     "metadata": {},
     "output_type": "display_data"
    }
   ],
   "source": [
    "# normalization and truly fit\n",
    "X_train_norm = (X_train - X_train.mean())\n",
    "X_test_norm = (X_test - X_test.mean())\n",
    "gbr_model = GradientBoostingRegressor()\n",
    "gbr_model.fit(X_train_norm, y_train)\n",
    "y_pred = gbr_model.predict(X_test_norm)\n",
    "\n",
    "y_TPR = []\n",
    "x_FPR = []\n",
    "for thre in range(0, 90):\n",
    "    true, pred = get_result(y_test, y_pred, thre)\n",
    "    TP, FP, TN, FN = perf_measure(true, pred)\n",
    "    if TP+FN == 0 or FP + TN == 0:\n",
    "        continue\n",
    "    FPR = FP / (FP + TN)\n",
    "    TPR = TP / (TP + FN)\n",
    "    y_TPR.append(TPR)\n",
    "    x_FPR.append(FPR)\n",
    "\n",
    "ax = plt.subplot(111)\n",
    "\n",
    "plt.plot(x_FPR, y_TPR, label=\"TPR vs FPR\")\n",
    "plt.plot(np.linspace(0, 1, 10), np.linspace(0, 1, 10), label=\"control\")\n",
    "# t1 = np.arange(0.0, 1.0, 0.01)\n",
    "# for n in [1, 2, 3, 4]:\n",
    "\n",
    "leg = plt.legend(loc='best', ncol=2, shadow=True, fancybox=True)\n",
    "leg.get_frame().set_alpha(0.5)\n",
    "\n",
    "plt.show()"
   ]
  },
  {
   "cell_type": "code",
   "execution_count": 362,
   "metadata": {},
   "outputs": [
    {
     "name": "stdout",
     "output_type": "stream",
     "text": [
      "[0.017699115044247787, 0.025477707006369428, 0.05517241379310345, 0.06390977443609022, 0.07346938775510205, 0.12946428571428573, 0.16097560975609757, 0.18421052631578946, 0.26136363636363635, 0.41358024691358025, 0.5838926174496645, 0.75, 0.8548387096774194, 0.9285714285714286, 0.94, 0.9325842696629213, 0.9620253164556962, 0.9571428571428572, 0.9836065573770492, 1.0, 1.0, 1.0, 1.0, 1.0, 1.0, 1.0, 1.0, 1.0]\n",
      "[0.0, 0.0196078431372549, 0.05333333333333334, 0.10101010101010101, 0.11666666666666667, 0.2127659574468085, 0.26875, 0.3657142857142857, 0.4497354497354497, 0.5123152709359606, 0.6435185185185185, 0.8253275109170306, 0.921161825726141, 0.9604743083003953, 0.9547169811320755, 0.9637681159420289, 0.9685314685314685, 0.9864406779661017, 0.9901315789473685, 0.9871794871794872, 0.990625, 0.9908536585365854, 0.9970149253731343, 0.9970760233918129, 1.0, 1.0, 1.0, 1.0]\n"
     ]
    }
   ],
   "source": [
    "print(x_FPR)\n",
    "print(y_TPR)\n",
    "# 0.129, 0.212"
   ]
  },
  {
   "cell_type": "code",
   "execution_count": 366,
   "metadata": {},
   "outputs": [
    {
     "data": {
      "text/plain": [
       "[Text(0,0,'Proposed'),\n",
       " Text(0,0,'RF'),\n",
       " Text(0,0,'Chi2'),\n",
       " Text(0,0,'Mutual Info')]"
      ]
     },
     "execution_count": 366,
     "metadata": {},
     "output_type": "execute_result"
    },
    {
     "data": {
      "image/png": "[encoded data removed]",
      "text/plain": [
       "<Figure size 432x288 with 1 Axes>"
      ]
     },
     "metadata": {},
     "output_type": "display_data"
    }
   ],
   "source": [
    "fig = plt.figure()\n",
    "ax = plt.subplot(111)\n",
    "width=0.8\n",
    "values = [0.29, 0.25, 0.101, 0.212]\n",
    "labels = ['Proposed', 'RF', 'Chi2', 'Mutual Info']\n",
    "ax.bar(range(len(values)), values, width=width)\n",
    "ax.set_xticks(np.arange(len(values)) + width/2)\n",
    "ax.set_xticklabels(labels, rotation=90)"
   ]
  },
  {
   "cell_type": "code",
   "execution_count": 367,
   "metadata": {},
   "outputs": [
    {
     "name": "stdout",
     "output_type": "stream",
     "text": [
      "0.8642384105960264\n"
     ]
    }
   ],
   "source": [
    "training_set = dataset.loc[dataset['broken_day'].astype(str) < '2017-12-01'].copy()\n",
    "testing_set = dataset.loc[(dataset['broken_day'].astype(str) >= '2017-12-01') & (dataset['date'].astype(str) >= '2017-12-01')].copy()    \n",
    "all_features = [c for c in training_set.columns if c[:5] == 'smart']\n",
    "removed_features = []\n",
    "\n",
    "y_train = training_set['y'].dt.days\n",
    "y_test = testing_set['y'].dt.days\n",
    "X_train = training_set[all_features].astype(np.float32)\n",
    "X_test = testing_set[all_features].astype(np.float32)\n",
    "    \n",
    "gbr_model = GradientBoostingRegressor()\n",
    "gbr_model.fit(X_train, y_train)\n",
    "y_pred = gbr_model.predict(X_test)\n",
    "\n",
    "uni_threshold = 20\n",
    "true, pred = get_result(y_test, y_pred, uni_threshold)\n",
    "max_f1 = f1_score(true, pred)\n",
    "\n",
    "for i in all_features: \n",
    "    selected_features = [c for c in all_features if c not in removed_features and c != i]\n",
    "    X_train = training_set[selected_features].astype(np.float32)\n",
    "    X_test = testing_set[selected_features].astype(np.float32)\n",
    "    gbr_model = GradientBoostingRegressor()\n",
    "    gbr_model.fit(X_train, y_train)\n",
    "    y_pred = gbr_model.predict(X_test)\n",
    "    true, pred = get_result(y_test, y_pred, uni_threshold)\n",
    "    f1 = f1_score(true, pred)\n",
    "    if f1 > max_f1:\n",
    "        max_f1 = f1\n",
    "        removed_features.append(i)\n",
    "print(max_f1)\n",
    "\n",
    "selected_features = [c for c in all_features if c not in removed_features]\n",
    "X_train = training_set[selected_features].astype(np.float32)\n",
    "X_test = testing_set[selected_features].astype(np.float32)\n",
    "# normalization and truly fit\n",
    "X_train_norm = (X_train - X_train.mean()).values\n",
    "X_test_norm = (X_test - X_test.mean()).values"
   ]
  },
  {
   "cell_type": "code",
   "execution_count": 372,
   "metadata": {},
   "outputs": [
    {
     "data": {
      "image/png": "[encoded data removed]",
      "text/plain": [
       "<Figure size 432x288 with 1 Axes>"
      ]
     },
     "metadata": {},
     "output_type": "display_data"
    }
   ],
   "source": [
    "from sklearn.svm import SVR\n",
    "\n",
    "\n",
    "ax = plt.subplot(111)\n",
    "\n",
    "# break\n",
    "y_TPR = [] \n",
    "x_FPR = []\n",
    "gbr_model = GradientBoostingRegressor()\n",
    "gbr_model.fit(X_train_norm, y_train)\n",
    "y_pred = gbr_model.predict(X_test_norm)\n",
    "for thre in range(0, 90):\n",
    "    true, pred = get_result(y_test, y_pred, thre)\n",
    "    TP, FP, TN, FN = perf_measure(true, pred)\n",
    "    if TP+FN == 0 or FP + TN == 0:\n",
    "        continue\n",
    "    FPR = FP / (FP + TN)\n",
    "    TPR = TP / (TP + FN)\n",
    "    y_TPR.append(TPR)\n",
    "    x_FPR.append(FPR)\n",
    "plt.plot(x_FPR, y_TPR, label='CDEF')\n",
    "\n",
    "# break\n",
    "y_TPR = [] \n",
    "x_FPR = []\n",
    "rf_model = RandomForestRegressor()\n",
    "rf_model.fit(X_train_norm, y_train)\n",
    "y_pred = rf_model.predict(X_test_norm)\n",
    "for thre in range(0, 90):\n",
    "    true, pred = get_result(y_test, y_pred, thre)\n",
    "    TP, FP, TN, FN = perf_measure(true, pred)\n",
    "    if TP+FN == 0 or FP + TN == 0:\n",
    "        continue\n",
    "    FPR = FP / (FP + TN)\n",
    "    TPR = TP / (TP + FN)\n",
    "    y_TPR.append(TPR)\n",
    "    x_FPR.append(FPR)\n",
    "plt.plot(x_FPR, y_TPR, label='RF')\n",
    "\n",
    "# break\n",
    "y_TPR = [] \n",
    "x_FPR = []\n",
    "SVR_model = SVR()\n",
    "SVR_model.fit(X_train_norm, y_train)\n",
    "y_pred = SVR_model.predict(X_test_norm)\n",
    "for thre in range(0, 90):\n",
    "    true, pred = get_result(y_test, y_pred, thre)\n",
    "    TP, FP, TN, FN = perf_measure(true, pred)\n",
    "    if TP+FN == 0 or FP + TN == 0:\n",
    "        continue\n",
    "    FPR = FP / (FP + TN)\n",
    "    TPR = TP / (TP + FN)\n",
    "    y_TPR.append(TPR)\n",
    "    x_FPR.append(FPR)\n",
    "plt.plot(x_FPR, y_TPR, label='SVM')\n",
    "\n",
    "plt.plot(np.linspace(0, 1, 10), np.linspace(0, 1, 10), label=\"control\")\n",
    "# t1 = np.arange(0.0, 1.0, 0.01)\n",
    "# for n in [1, 2, 3, 4]:\n",
    "\n",
    "leg = plt.legend(loc='best', ncol=2, shadow=True, fancybox=True)\n",
    "leg.get_frame().set_alpha(0.5)\n",
    "\n",
    "plt.show()"
   ]
  },
  {
   "cell_type": "code",
   "execution_count": null,
   "metadata": {},
   "outputs": [],
   "source": []
  }
 ],
 "metadata": {
  "kernelspec": {
   "display_name": "Python 3",
   "language": "python",
   "name": "python3"
  },
  "language_info": {
   "codemirror_mode": {
    "name": "ipython",
    "version": 3
   },
   "file_extension": ".py",
   "mimetype": "text/x-python",
   "name": "python",
   "nbconvert_exporter": "python",
   "pygments_lexer": "ipython3",
   "version": "3.6.5"
  }
 },
 "nbformat": 4,
 "nbformat_minor": 2
}
