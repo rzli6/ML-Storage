{
 "cells": [
  {
   "cell_type": "code",
   "execution_count": 66,
   "metadata": {},
   "outputs": [],
   "source": [
    "import numpy as np\n",
    "import pandas as pd\n",
    "import os, datetime\n",
    "from sklearn.linear_model import LogisticRegression, LogisticRegressionCV\n",
    "from sklearn.svm import SVC\n",
    "from sklearn.model_selection import KFold, cross_val_score, RandomizedSearchCV, GridSearchCV\n",
    "from sklearn.metrics import precision_score, recall_score, f1_score\n",
    "from sklearn.preprocessing import MinMaxScaler\n",
    "from sklearn.cluster import KMeans, MiniBatchKMeans\n",
    "from sklearn.decomposition import PCA\n",
    "from sklearn.ensemble import RandomForestClassifier\n",
    "from sklearn.tree import DecisionTreeClassifier\n",
    "from sklearn.neural_network import MLPClassifier\n",
    "import matplotlib.pyplot as plt"
   ]
  },
  {
   "cell_type": "code",
   "execution_count": 3,
   "metadata": {},
   "outputs": [
    {
     "data": {
      "text/html": [
       "<div>\n",
       "<style scoped>\n",
       "    .dataframe tbody tr th:only-of-type {\n",
       "        vertical-align: middle;\n",
       "    }\n",
       "\n",
       "    .dataframe tbody tr th {\n",
       "        vertical-align: top;\n",
       "    }\n",
       "\n",
       "    .dataframe thead th {\n",
       "        text-align: right;\n",
       "    }\n",
       "</style>\n",
       "<table border=\"1\" class=\"dataframe\">\n",
       "  <thead>\n",
       "    <tr style=\"text-align: right;\">\n",
       "      <th></th>\n",
       "      <th>P</th>\n",
       "      <th>R</th>\n",
       "      <th>F</th>\n",
       "      <th>Sd</th>\n",
       "    </tr>\n",
       "  </thead>\n",
       "  <tbody>\n",
       "    <tr>\n",
       "      <th>CART</th>\n",
       "      <td>NaN</td>\n",
       "      <td>NaN</td>\n",
       "      <td>NaN</td>\n",
       "      <td>NaN</td>\n",
       "    </tr>\n",
       "    <tr>\n",
       "      <th>SVM</th>\n",
       "      <td>NaN</td>\n",
       "      <td>NaN</td>\n",
       "      <td>NaN</td>\n",
       "      <td>NaN</td>\n",
       "    </tr>\n",
       "    <tr>\n",
       "      <th>NN</th>\n",
       "      <td>NaN</td>\n",
       "      <td>NaN</td>\n",
       "      <td>NaN</td>\n",
       "      <td>NaN</td>\n",
       "    </tr>\n",
       "    <tr>\n",
       "      <th>LR</th>\n",
       "      <td>NaN</td>\n",
       "      <td>NaN</td>\n",
       "      <td>NaN</td>\n",
       "      <td>NaN</td>\n",
       "    </tr>\n",
       "    <tr>\n",
       "      <th>RF</th>\n",
       "      <td>NaN</td>\n",
       "      <td>NaN</td>\n",
       "      <td>NaN</td>\n",
       "      <td>NaN</td>\n",
       "    </tr>\n",
       "  </tbody>\n",
       "</table>\n",
       "</div>"
      ],
      "text/plain": [
       "        P    R    F   Sd\n",
       "CART  NaN  NaN  NaN  NaN\n",
       "SVM   NaN  NaN  NaN  NaN\n",
       "NN    NaN  NaN  NaN  NaN\n",
       "LR    NaN  NaN  NaN  NaN\n",
       "RF    NaN  NaN  NaN  NaN"
      ]
     },
     "execution_count": 3,
     "metadata": {},
     "output_type": "execute_result"
    }
   ],
   "source": [
    "model_name = 'ST3000DM001'\n",
    "data_dirs = ['../data-2015/']\n",
    "attributes = ['smart_1_raw', 'smart_4_raw', 'smart_5_raw', 'smart_7_raw', 'smart_9_raw', 'smart_12_raw', 'smart_187_raw', 'smart_193_raw', 'smart_194_raw', 'smart_197_raw', 'smart_199_raw']\n",
    "drive_models = ['ST4000DM000', 'ST3000DM001', 'Hitachi HDS5C3030ALA630', 'Hitachi HDS722020ALA330', 'Hitachi HDS5C4040ALE630', 'HGST HMS5C4040ALE640', 'HGST HMS5C4040BLE640']\n",
    "features = ['serial_number', 'date', 'capacity_bytes', 'smart_5_raw', 'smart_1_raw', 'smart_4_raw', 'smart_7_raw', 'smart_9_raw', 'smart_12_raw', 'smart_187_raw', 'smart_193_raw', 'smart_194_raw', 'smart_197_raw', 'smart_199_raw', 'smart_196_raw']\n",
    "type_dict = {feature: np.float32 for feature in features[3:]}\n",
    "\n",
    "def model_stat(model, X, y):\n",
    "    f_score = cross_val_score(model, X, y, cv=5, scoring='f1', n_jobs=-1)\n",
    "    r_score = cross_val_score(model, X, y, cv=5, scoring='recall', n_jobs=-1)\n",
    "    p_score = cross_val_score(model, X, y, cv=5, scoring='precision', n_jobs=-1)\n",
    "    return pd.Series({'P': np.mean(p_score), 'R': np.mean(r_score), 'F': np.mean(f_score), 'Sd': np.std(f_score)})\n",
    "\n",
    "statics = pd.DataFrame(index=['CART', 'SVM', 'NN', 'LR', 'RF'], columns=['P', 'R', 'F', 'Sd'])\n",
    "statics"
   ]
  },
  {
   "cell_type": "code",
   "execution_count": 4,
   "metadata": {},
   "outputs": [],
   "source": [
    "for model_name in drive_models:\n",
    "    drive_model = pd.concat([(lambda pd: pd.loc[pd['model'] == model_name][features])(pd.read_csv(os.path.join(data_dir, filename), dtype=type_dict)) for data_dir in data_dirs for filename in os.listdir(data_dir)]).sort_values(by=['serial_number', 'date'])\n",
    "    drive_model.to_csv('./preprocess/' + model_name + '.csv')"
   ]
  },
  {
   "cell_type": "code",
   "execution_count": 5,
   "metadata": {},
   "outputs": [
    {
     "data": {
      "text/html": [
       "<div>\n",
       "<style scoped>\n",
       "    .dataframe tbody tr th:only-of-type {\n",
       "        vertical-align: middle;\n",
       "    }\n",
       "\n",
       "    .dataframe tbody tr th {\n",
       "        vertical-align: top;\n",
       "    }\n",
       "\n",
       "    .dataframe thead th {\n",
       "        text-align: right;\n",
       "    }\n",
       "</style>\n",
       "<table border=\"1\" class=\"dataframe\">\n",
       "  <thead>\n",
       "    <tr style=\"text-align: right;\">\n",
       "      <th></th>\n",
       "      <th>smart_5_raw</th>\n",
       "      <th>smart_187_raw</th>\n",
       "      <th>smart_196_raw</th>\n",
       "      <th>smart_197_raw</th>\n",
       "      <th>Capacity (TB)</th>\n",
       "      <th># Drives</th>\n",
       "    </tr>\n",
       "  </thead>\n",
       "  <tbody>\n",
       "    <tr>\n",
       "      <th>ST4000DM000</th>\n",
       "      <td>0.00738119</td>\n",
       "      <td>0.0154702</td>\n",
       "      <td>0</td>\n",
       "      <td>0.0150657</td>\n",
       "      <td>4</td>\n",
       "      <td>29670</td>\n",
       "    </tr>\n",
       "    <tr>\n",
       "      <th>ST3000DM001</th>\n",
       "      <td>0.120719</td>\n",
       "      <td>0.177226</td>\n",
       "      <td>0</td>\n",
       "      <td>0.0702055</td>\n",
       "      <td>3</td>\n",
       "      <td>1168</td>\n",
       "    </tr>\n",
       "    <tr>\n",
       "      <th>Hitachi HDS5C3030ALA630</th>\n",
       "      <td>0.0323491</td>\n",
       "      <td>0</td>\n",
       "      <td>0.032132</td>\n",
       "      <td>0.0123752</td>\n",
       "      <td>3</td>\n",
       "      <td>4606</td>\n",
       "    </tr>\n",
       "    <tr>\n",
       "      <th>Hitachi HDS722020ALA330</th>\n",
       "      <td>0.133675</td>\n",
       "      <td>0</td>\n",
       "      <td>0.133675</td>\n",
       "      <td>0.0365151</td>\n",
       "      <td>2</td>\n",
       "      <td>4683</td>\n",
       "    </tr>\n",
       "    <tr>\n",
       "      <th>Hitachi HDS5C4040ALE630</th>\n",
       "      <td>0.0150376</td>\n",
       "      <td>0</td>\n",
       "      <td>0.0154135</td>\n",
       "      <td>0.0075188</td>\n",
       "      <td>4</td>\n",
       "      <td>2660</td>\n",
       "    </tr>\n",
       "    <tr>\n",
       "      <th>HGST HMS5C4040ALE640</th>\n",
       "      <td>0.0060317</td>\n",
       "      <td>0</td>\n",
       "      <td>0.0060317</td>\n",
       "      <td>0.00266517</td>\n",
       "      <td>4</td>\n",
       "      <td>7129</td>\n",
       "    </tr>\n",
       "    <tr>\n",
       "      <th>HGST HMS5C4040BLE640</th>\n",
       "      <td>0.000966806</td>\n",
       "      <td>0</td>\n",
       "      <td>0.000966806</td>\n",
       "      <td>0.00257815</td>\n",
       "      <td>4</td>\n",
       "      <td>3103</td>\n",
       "    </tr>\n",
       "  </tbody>\n",
       "</table>\n",
       "</div>"
      ],
      "text/plain": [
       "                         smart_5_raw smart_187_raw smart_196_raw  \\\n",
       "ST4000DM000               0.00738119     0.0154702             0   \n",
       "ST3000DM001                 0.120719      0.177226             0   \n",
       "Hitachi HDS5C3030ALA630    0.0323491             0      0.032132   \n",
       "Hitachi HDS722020ALA330     0.133675             0      0.133675   \n",
       "Hitachi HDS5C4040ALE630    0.0150376             0     0.0154135   \n",
       "HGST HMS5C4040ALE640       0.0060317             0     0.0060317   \n",
       "HGST HMS5C4040BLE640     0.000966806             0   0.000966806   \n",
       "\n",
       "                        smart_197_raw Capacity (TB) # Drives  \n",
       "ST4000DM000                 0.0150657             4    29670  \n",
       "ST3000DM001                 0.0702055             3     1168  \n",
       "Hitachi HDS5C3030ALA630     0.0123752             3     4606  \n",
       "Hitachi HDS722020ALA330     0.0365151             2     4683  \n",
       "Hitachi HDS5C4040ALE630     0.0075188             4     2660  \n",
       "HGST HMS5C4040ALE640       0.00266517             4     7129  \n",
       "HGST HMS5C4040BLE640       0.00257815             4     3103  "
      ]
     },
     "execution_count": 5,
     "metadata": {},
     "output_type": "execute_result"
    }
   ],
   "source": [
    "res_vars = ['smart_5_raw', 'smart_187_raw', 'smart_196_raw', 'smart_197_raw']\n",
    "overview = pd.DataFrame(index=drive_models, columns=res_vars+['Capacity (TB)', '# Drives'])\n",
    "type_dict = {key: np.float64 for key in res_vars}\n",
    "\n",
    "for model_name in drive_models:\n",
    "    drive_model = pd.read_csv('./preprocess/' + model_name + '.csv', dtype=type_dict)\n",
    "    percentage = drive_model.groupby('serial_number')[res_vars].sum().agg(lambda data: data[data>0].size/data.size)\n",
    "    percentage['Capacity (TB)'] = drive_model.iloc[0]['capacity_bytes'] // 1000**4\n",
    "    percentage['# Drives'] = drive_model['serial_number'].unique().size\n",
    "    overview.loc[model_name] = percentage\n",
    "    \n",
    "overview.to_csv('./preprocess/overview.csv')\n",
    "overview"
   ]
  },
  {
   "cell_type": "code",
   "execution_count": 48,
   "metadata": {},
   "outputs": [],
   "source": [
    "model_name = 'ST3000DM001'\n",
    "drive_model = pd.read_csv('./preprocess/' + model_name + '.csv', dtype=type_dict).iloc[:, 1:]"
   ]
  },
  {
   "cell_type": "code",
   "execution_count": 49,
   "metadata": {},
   "outputs": [
    {
     "data": {
      "text/html": [
       "<div>\n",
       "<style scoped>\n",
       "    .dataframe tbody tr th:only-of-type {\n",
       "        vertical-align: middle;\n",
       "    }\n",
       "\n",
       "    .dataframe tbody tr th {\n",
       "        vertical-align: top;\n",
       "    }\n",
       "\n",
       "    .dataframe thead th {\n",
       "        text-align: right;\n",
       "    }\n",
       "</style>\n",
       "<table border=\"1\" class=\"dataframe\">\n",
       "  <thead>\n",
       "    <tr style=\"text-align: right;\">\n",
       "      <th></th>\n",
       "      <th>serial_number</th>\n",
       "      <th>date</th>\n",
       "      <th>capacity_bytes</th>\n",
       "      <th>smart_5_raw</th>\n",
       "      <th>smart_1_raw</th>\n",
       "      <th>smart_4_raw</th>\n",
       "      <th>smart_7_raw</th>\n",
       "      <th>smart_9_raw</th>\n",
       "      <th>smart_12_raw</th>\n",
       "      <th>smart_187_raw</th>\n",
       "      <th>smart_193_raw</th>\n",
       "      <th>smart_194_raw</th>\n",
       "      <th>smart_197_raw</th>\n",
       "      <th>smart_199_raw</th>\n",
       "    </tr>\n",
       "  </thead>\n",
       "  <tbody>\n",
       "    <tr>\n",
       "      <th>0</th>\n",
       "      <td>S1F01085</td>\n",
       "      <td>2015-01-01</td>\n",
       "      <td>3000592982016</td>\n",
       "      <td>56.0</td>\n",
       "      <td>215630670.0</td>\n",
       "      <td>74.0</td>\n",
       "      <td>994661600.0</td>\n",
       "      <td>24621.0</td>\n",
       "      <td>71.0</td>\n",
       "      <td>52.0</td>\n",
       "      <td>407438.0</td>\n",
       "      <td>19.0</td>\n",
       "      <td>0.0</td>\n",
       "      <td>7.0</td>\n",
       "    </tr>\n",
       "    <tr>\n",
       "      <th>1</th>\n",
       "      <td>S1F01085</td>\n",
       "      <td>2015-01-02</td>\n",
       "      <td>3000592982016</td>\n",
       "      <td>56.0</td>\n",
       "      <td>1650864.0</td>\n",
       "      <td>74.0</td>\n",
       "      <td>995929540.0</td>\n",
       "      <td>24645.0</td>\n",
       "      <td>71.0</td>\n",
       "      <td>52.0</td>\n",
       "      <td>407438.0</td>\n",
       "      <td>19.0</td>\n",
       "      <td>0.0</td>\n",
       "      <td>7.0</td>\n",
       "    </tr>\n",
       "    <tr>\n",
       "      <th>2</th>\n",
       "      <td>S1F01085</td>\n",
       "      <td>2015-01-03</td>\n",
       "      <td>3000592982016</td>\n",
       "      <td>56.0</td>\n",
       "      <td>124017370.0</td>\n",
       "      <td>74.0</td>\n",
       "      <td>997235900.0</td>\n",
       "      <td>24669.0</td>\n",
       "      <td>71.0</td>\n",
       "      <td>52.0</td>\n",
       "      <td>407438.0</td>\n",
       "      <td>19.0</td>\n",
       "      <td>0.0</td>\n",
       "      <td>7.0</td>\n",
       "    </tr>\n",
       "    <tr>\n",
       "      <th>3</th>\n",
       "      <td>S1F01085</td>\n",
       "      <td>2015-01-04</td>\n",
       "      <td>3000592982016</td>\n",
       "      <td>56.0</td>\n",
       "      <td>128073224.0</td>\n",
       "      <td>74.0</td>\n",
       "      <td>998608100.0</td>\n",
       "      <td>24693.0</td>\n",
       "      <td>71.0</td>\n",
       "      <td>52.0</td>\n",
       "      <td>407439.0</td>\n",
       "      <td>19.0</td>\n",
       "      <td>0.0</td>\n",
       "      <td>7.0</td>\n",
       "    </tr>\n",
       "    <tr>\n",
       "      <th>4</th>\n",
       "      <td>S1F01085</td>\n",
       "      <td>2015-01-05</td>\n",
       "      <td>3000592982016</td>\n",
       "      <td>56.0</td>\n",
       "      <td>97393450.0</td>\n",
       "      <td>74.0</td>\n",
       "      <td>999190700.0</td>\n",
       "      <td>24717.0</td>\n",
       "      <td>71.0</td>\n",
       "      <td>52.0</td>\n",
       "      <td>408114.0</td>\n",
       "      <td>18.0</td>\n",
       "      <td>0.0</td>\n",
       "      <td>7.0</td>\n",
       "    </tr>\n",
       "  </tbody>\n",
       "</table>\n",
       "</div>"
      ],
      "text/plain": [
       "  serial_number       date  capacity_bytes  smart_5_raw  smart_1_raw  \\\n",
       "0      S1F01085 2015-01-01   3000592982016         56.0  215630670.0   \n",
       "1      S1F01085 2015-01-02   3000592982016         56.0    1650864.0   \n",
       "2      S1F01085 2015-01-03   3000592982016         56.0  124017370.0   \n",
       "3      S1F01085 2015-01-04   3000592982016         56.0  128073224.0   \n",
       "4      S1F01085 2015-01-05   3000592982016         56.0   97393450.0   \n",
       "\n",
       "   smart_4_raw  smart_7_raw  smart_9_raw  smart_12_raw  smart_187_raw  \\\n",
       "0         74.0  994661600.0      24621.0          71.0           52.0   \n",
       "1         74.0  995929540.0      24645.0          71.0           52.0   \n",
       "2         74.0  997235900.0      24669.0          71.0           52.0   \n",
       "3         74.0  998608100.0      24693.0          71.0           52.0   \n",
       "4         74.0  999190700.0      24717.0          71.0           52.0   \n",
       "\n",
       "   smart_193_raw  smart_194_raw  smart_197_raw  smart_199_raw  \n",
       "0       407438.0           19.0            0.0            7.0  \n",
       "1       407438.0           19.0            0.0            7.0  \n",
       "2       407438.0           19.0            0.0            7.0  \n",
       "3       407439.0           19.0            0.0            7.0  \n",
       "4       408114.0           18.0            0.0            7.0  "
      ]
     },
     "execution_count": 49,
     "metadata": {},
     "output_type": "execute_result"
    }
   ],
   "source": [
    "df = drive_model.sort_values(by=['serial_number', 'date']).dropna(how='all', axis='columns')\n",
    "df['date'] = pd.to_datetime(df['date'])\n",
    "df.head()"
   ]
  },
  {
   "cell_type": "code",
   "execution_count": 50,
   "metadata": {},
   "outputs": [
    {
     "data": {
      "text/plain": [
       "(17637, 21)"
      ]
     },
     "execution_count": 50,
     "metadata": {},
     "output_type": "execute_result"
    }
   ],
   "source": [
    "# week = ['W-SUN', 'W-MON', 'W-TUE', 'W-WED', 'W-THU', 'W-FRI', 'W-SAT']\n",
    "df2 = df.copy()\n",
    "df2['date'] += datetime.timedelta(days=1)\n",
    "\n",
    "day = 'W-MON'\n",
    "model_group = df.groupby(['serial_number', pd.Grouper(key='date', freq=day)])\n",
    "y = model_group['smart_5_raw'].last().to_frame().rename({'smart_5_raw': 'y'}, axis='columns')\n",
    "\n",
    "model_group2 = df2.groupby(['serial_number', pd.Grouper(key='date', freq=day)])\n",
    "input1 = model_group2[[i for i in attributes if i in df2.columns]].last()\n",
    "\n",
    "training_set = y.join(other=input1, how='inner')\n",
    "training_set['y'] = np.where(training_set['y'] > training_set['smart_5_raw'], 1, 0)\n",
    "input2_features = ['smart_4_raw', 'smart_5_raw', 'smart_7_raw', 'smart_9_raw', 'smart_12_raw', 'smart_187_raw', 'smart_193_raw', 'smart_197_raw', 'smart_199_raw']\n",
    "input2 = training_set.groupby(level=0)[[i for i in input2_features if i in training_set.columns]].transform(pd.DataFrame.diff).dropna(how='any')\n",
    "training_set = training_set.join(other=input2, how='inner', rsuffix='_increase')\n",
    "    \n",
    "training_set.to_csv('./preprocess/' + model_name + '_training_set.csv')\n",
    "training_set.shape"
   ]
  },
  {
   "cell_type": "code",
   "execution_count": 51,
   "metadata": {},
   "outputs": [
    {
     "data": {
      "text/html": [
       "<div>\n",
       "<style scoped>\n",
       "    .dataframe tbody tr th:only-of-type {\n",
       "        vertical-align: middle;\n",
       "    }\n",
       "\n",
       "    .dataframe tbody tr th {\n",
       "        vertical-align: top;\n",
       "    }\n",
       "\n",
       "    .dataframe thead th {\n",
       "        text-align: right;\n",
       "    }\n",
       "</style>\n",
       "<table border=\"1\" class=\"dataframe\">\n",
       "  <thead>\n",
       "    <tr style=\"text-align: right;\">\n",
       "      <th></th>\n",
       "      <th>y</th>\n",
       "      <th>smart_1_raw</th>\n",
       "      <th>smart_4_raw</th>\n",
       "      <th>smart_5_raw</th>\n",
       "      <th>smart_7_raw</th>\n",
       "      <th>smart_9_raw</th>\n",
       "      <th>smart_12_raw</th>\n",
       "      <th>smart_187_raw</th>\n",
       "      <th>smart_193_raw</th>\n",
       "      <th>smart_194_raw</th>\n",
       "      <th>...</th>\n",
       "      <th>smart_199_raw</th>\n",
       "      <th>smart_4_raw_increase</th>\n",
       "      <th>smart_5_raw_increase</th>\n",
       "      <th>smart_7_raw_increase</th>\n",
       "      <th>smart_9_raw_increase</th>\n",
       "      <th>smart_12_raw_increase</th>\n",
       "      <th>smart_187_raw_increase</th>\n",
       "      <th>smart_193_raw_increase</th>\n",
       "      <th>smart_197_raw_increase</th>\n",
       "      <th>smart_199_raw_increase</th>\n",
       "    </tr>\n",
       "  </thead>\n",
       "  <tbody>\n",
       "    <tr>\n",
       "      <th>0</th>\n",
       "      <td>0</td>\n",
       "      <td>128832130.0</td>\n",
       "      <td>74.0</td>\n",
       "      <td>56.0</td>\n",
       "      <td>999259100.0</td>\n",
       "      <td>24742.0</td>\n",
       "      <td>71.0</td>\n",
       "      <td>52.0</td>\n",
       "      <td>409404.0</td>\n",
       "      <td>18.0</td>\n",
       "      <td>...</td>\n",
       "      <td>7.0</td>\n",
       "      <td>0.0</td>\n",
       "      <td>0.0</td>\n",
       "      <td>651000.0</td>\n",
       "      <td>49.0</td>\n",
       "      <td>0.0</td>\n",
       "      <td>0.0</td>\n",
       "      <td>1965.0</td>\n",
       "      <td>0.0</td>\n",
       "      <td>0.0</td>\n",
       "    </tr>\n",
       "    <tr>\n",
       "      <th>1</th>\n",
       "      <td>0</td>\n",
       "      <td>7441792.0</td>\n",
       "      <td>74.0</td>\n",
       "      <td>0.0</td>\n",
       "      <td>5201943.0</td>\n",
       "      <td>24743.0</td>\n",
       "      <td>71.0</td>\n",
       "      <td>0.0</td>\n",
       "      <td>404786.0</td>\n",
       "      <td>22.0</td>\n",
       "      <td>...</td>\n",
       "      <td>0.0</td>\n",
       "      <td>0.0</td>\n",
       "      <td>0.0</td>\n",
       "      <td>613681.0</td>\n",
       "      <td>47.0</td>\n",
       "      <td>0.0</td>\n",
       "      <td>0.0</td>\n",
       "      <td>1611.0</td>\n",
       "      <td>0.0</td>\n",
       "      <td>0.0</td>\n",
       "    </tr>\n",
       "    <tr>\n",
       "      <th>2</th>\n",
       "      <td>0</td>\n",
       "      <td>154306600.0</td>\n",
       "      <td>36.0</td>\n",
       "      <td>0.0</td>\n",
       "      <td>75275780.0</td>\n",
       "      <td>21209.0</td>\n",
       "      <td>36.0</td>\n",
       "      <td>0.0</td>\n",
       "      <td>250284.0</td>\n",
       "      <td>25.0</td>\n",
       "      <td>...</td>\n",
       "      <td>0.0</td>\n",
       "      <td>0.0</td>\n",
       "      <td>0.0</td>\n",
       "      <td>452290.0</td>\n",
       "      <td>169.0</td>\n",
       "      <td>0.0</td>\n",
       "      <td>0.0</td>\n",
       "      <td>9020.0</td>\n",
       "      <td>0.0</td>\n",
       "      <td>0.0</td>\n",
       "    </tr>\n",
       "    <tr>\n",
       "      <th>3</th>\n",
       "      <td>0</td>\n",
       "      <td>134005830.0</td>\n",
       "      <td>36.0</td>\n",
       "      <td>0.0</td>\n",
       "      <td>78245240.0</td>\n",
       "      <td>21377.0</td>\n",
       "      <td>36.0</td>\n",
       "      <td>0.0</td>\n",
       "      <td>256762.0</td>\n",
       "      <td>26.0</td>\n",
       "      <td>...</td>\n",
       "      <td>0.0</td>\n",
       "      <td>0.0</td>\n",
       "      <td>0.0</td>\n",
       "      <td>2969460.0</td>\n",
       "      <td>168.0</td>\n",
       "      <td>0.0</td>\n",
       "      <td>0.0</td>\n",
       "      <td>6478.0</td>\n",
       "      <td>0.0</td>\n",
       "      <td>0.0</td>\n",
       "    </tr>\n",
       "    <tr>\n",
       "      <th>4</th>\n",
       "      <td>0</td>\n",
       "      <td>90323900.0</td>\n",
       "      <td>38.0</td>\n",
       "      <td>0.0</td>\n",
       "      <td>82446490.0</td>\n",
       "      <td>21545.0</td>\n",
       "      <td>38.0</td>\n",
       "      <td>0.0</td>\n",
       "      <td>259359.0</td>\n",
       "      <td>26.0</td>\n",
       "      <td>...</td>\n",
       "      <td>0.0</td>\n",
       "      <td>2.0</td>\n",
       "      <td>0.0</td>\n",
       "      <td>4201250.0</td>\n",
       "      <td>168.0</td>\n",
       "      <td>2.0</td>\n",
       "      <td>0.0</td>\n",
       "      <td>2597.0</td>\n",
       "      <td>0.0</td>\n",
       "      <td>0.0</td>\n",
       "    </tr>\n",
       "  </tbody>\n",
       "</table>\n",
       "<p>5 rows × 21 columns</p>\n",
       "</div>"
      ],
      "text/plain": [
       "   y  smart_1_raw  smart_4_raw  smart_5_raw  smart_7_raw  smart_9_raw  \\\n",
       "0  0  128832130.0         74.0         56.0  999259100.0      24742.0   \n",
       "1  0    7441792.0         74.0          0.0    5201943.0      24743.0   \n",
       "2  0  154306600.0         36.0          0.0   75275780.0      21209.0   \n",
       "3  0  134005830.0         36.0          0.0   78245240.0      21377.0   \n",
       "4  0   90323900.0         38.0          0.0   82446490.0      21545.0   \n",
       "\n",
       "   smart_12_raw  smart_187_raw  smart_193_raw  smart_194_raw  \\\n",
       "0          71.0           52.0       409404.0           18.0   \n",
       "1          71.0            0.0       404786.0           22.0   \n",
       "2          36.0            0.0       250284.0           25.0   \n",
       "3          36.0            0.0       256762.0           26.0   \n",
       "4          38.0            0.0       259359.0           26.0   \n",
       "\n",
       "            ...            smart_199_raw  smart_4_raw_increase  \\\n",
       "0           ...                      7.0                   0.0   \n",
       "1           ...                      0.0                   0.0   \n",
       "2           ...                      0.0                   0.0   \n",
       "3           ...                      0.0                   0.0   \n",
       "4           ...                      0.0                   2.0   \n",
       "\n",
       "   smart_5_raw_increase  smart_7_raw_increase  smart_9_raw_increase  \\\n",
       "0                   0.0              651000.0                  49.0   \n",
       "1                   0.0              613681.0                  47.0   \n",
       "2                   0.0              452290.0                 169.0   \n",
       "3                   0.0             2969460.0                 168.0   \n",
       "4                   0.0             4201250.0                 168.0   \n",
       "\n",
       "   smart_12_raw_increase  smart_187_raw_increase  smart_193_raw_increase  \\\n",
       "0                    0.0                     0.0                  1965.0   \n",
       "1                    0.0                     0.0                  1611.0   \n",
       "2                    0.0                     0.0                  9020.0   \n",
       "3                    0.0                     0.0                  6478.0   \n",
       "4                    2.0                     0.0                  2597.0   \n",
       "\n",
       "   smart_197_raw_increase  smart_199_raw_increase  \n",
       "0                     0.0                     0.0  \n",
       "1                     0.0                     0.0  \n",
       "2                     0.0                     0.0  \n",
       "3                     0.0                     0.0  \n",
       "4                     0.0                     0.0  \n",
       "\n",
       "[5 rows x 21 columns]"
      ]
     },
     "execution_count": 51,
     "metadata": {},
     "output_type": "execute_result"
    }
   ],
   "source": [
    "training_set = pd.read_csv('./preprocess/' + model_name + '_training_set.csv').drop(['serial_number', 'date'], axis='columns')\n",
    "training_set.head()"
   ]
  },
  {
   "cell_type": "code",
   "execution_count": 82,
   "metadata": {},
   "outputs": [
    {
     "data": {
      "text/plain": [
       "'smart_5_raw_increase'"
      ]
     },
     "execution_count": 82,
     "metadata": {},
     "output_type": "execute_result"
    }
   ],
   "source": []
  },
  {
   "cell_type": "code",
   "execution_count": 52,
   "metadata": {},
   "outputs": [
    {
     "data": {
      "text/plain": [
       "Index(['y', 'smart_1_raw', 'smart_4_raw', 'smart_5_raw', 'smart_7_raw',\n",
       "       'smart_9_raw', 'smart_12_raw', 'smart_187_raw', 'smart_193_raw',\n",
       "       'smart_194_raw', 'smart_197_raw', 'smart_199_raw',\n",
       "       'smart_4_raw_increase', 'smart_5_raw_increase', 'smart_7_raw_increase',\n",
       "       'smart_9_raw_increase', 'smart_12_raw_increase',\n",
       "       'smart_187_raw_increase', 'smart_193_raw_increase',\n",
       "       'smart_197_raw_increase', 'smart_199_raw_increase'],\n",
       "      dtype='object')"
      ]
     },
     "execution_count": 52,
     "metadata": {},
     "output_type": "execute_result"
    }
   ],
   "source": [
    "training_set.columns"
   ]
  },
  {
   "cell_type": "code",
   "execution_count": 53,
   "metadata": {},
   "outputs": [],
   "source": [
    "from sklearn.tree import _tree\n",
    "\n",
    "def tree_to_code(tree, feature_names):\n",
    "    tree_ = tree.tree_\n",
    "    feature_name = [\n",
    "        feature_names[i] if i != _tree.TREE_UNDEFINED else \"undefined!\"\n",
    "        for i in tree_.feature\n",
    "    ]\n",
    "    print(\"def tree({}):\".format(\", \".join(feature_names)))\n",
    "\n",
    "    def recurse(node, depth):\n",
    "        indent = \"  \" * depth\n",
    "        if tree_.feature[node] != _tree.TREE_UNDEFINED:\n",
    "            name = feature_name[node]\n",
    "            threshold = tree_.threshold[node]\n",
    "            print(\"{}if {} <= {}:\".format(indent, name, threshold))\n",
    "            recurse(tree_.children_left[node], depth + 1)\n",
    "            print(\"{}else:  # if {} > {}\".format(indent, name, threshold))\n",
    "            recurse(tree_.children_right[node], depth + 1)\n",
    "        else:\n",
    "            print(\"{}return {}\".format(indent, tree_.value[node]))\n",
    "\n",
    "    recurse(0, 1)\n"
   ]
  },
  {
   "cell_type": "code",
   "execution_count": 42,
   "metadata": {},
   "outputs": [
    {
     "ename": "NameError",
     "evalue": "name 'X_train' is not defined",
     "output_type": "error",
     "traceback": [
      "\u001b[1;31m---------------------------------------------------------------------------\u001b[0m",
      "\u001b[1;31mNameError\u001b[0m                                 Traceback (most recent call last)",
      "\u001b[1;32m<ipython-input-42-e9ee841f7378>\u001b[0m in \u001b[0;36m<module>\u001b[1;34m()\u001b[0m\n\u001b[0;32m      1\u001b[0m \u001b[1;31m# tune DT\u001b[0m\u001b[1;33m\u001b[0m\u001b[1;33m\u001b[0m\u001b[0m\n\u001b[0;32m      2\u001b[0m \u001b[0mdt_model\u001b[0m \u001b[1;33m=\u001b[0m \u001b[0mDecisionTreeClassifier\u001b[0m\u001b[1;33m(\u001b[0m\u001b[1;33m)\u001b[0m\u001b[1;33m\u001b[0m\u001b[0m\n\u001b[1;32m----> 3\u001b[1;33m \u001b[0mdt_model\u001b[0m\u001b[1;33m.\u001b[0m\u001b[0mfit\u001b[0m\u001b[1;33m(\u001b[0m\u001b[0mX_train\u001b[0m\u001b[1;33m,\u001b[0m \u001b[0my_train\u001b[0m\u001b[1;33m)\u001b[0m\u001b[1;33m\u001b[0m\u001b[0m\n\u001b[0m\u001b[0;32m      4\u001b[0m \u001b[0mtree_to_code\u001b[0m\u001b[1;33m(\u001b[0m\u001b[0mdt_model\u001b[0m\u001b[1;33m,\u001b[0m \u001b[0mtraining_set\u001b[0m\u001b[1;33m.\u001b[0m\u001b[0mdrop\u001b[0m\u001b[1;33m(\u001b[0m\u001b[1;33m[\u001b[0m\u001b[1;34m'y'\u001b[0m\u001b[1;33m]\u001b[0m\u001b[1;33m,\u001b[0m \u001b[0maxis\u001b[0m\u001b[1;33m=\u001b[0m\u001b[1;34m'columns'\u001b[0m\u001b[1;33m)\u001b[0m\u001b[1;33m.\u001b[0m\u001b[0mcolumns\u001b[0m\u001b[1;33m)\u001b[0m\u001b[1;33m\u001b[0m\u001b[0m\n",
      "\u001b[1;31mNameError\u001b[0m: name 'X_train' is not defined"
     ]
    }
   ],
   "source": [
    "# tune DT\n",
    "dt_model = DecisionTreeClassifier()\n",
    "dt_model.fit(X_train, y_train)\n",
    "tree_to_code(dt_model, training_set.drop(['y'], axis='columns').columns)"
   ]
  },
  {
   "cell_type": "code",
   "execution_count": 89,
   "metadata": {},
   "outputs": [
    {
     "data": {
      "text/plain": [
       "'smart_9_raw'"
      ]
     },
     "execution_count": 89,
     "metadata": {},
     "output_type": "execute_result"
    }
   ],
   "source": [
    "training_set.drop(['y', 'smart_5_raw', 'smart_5_raw_increase'], axis='columns').columns[3]"
   ]
  },
  {
   "cell_type": "code",
   "execution_count": 83,
   "metadata": {},
   "outputs": [
    {
     "name": "stdout",
     "output_type": "stream",
     "text": [
      "(118, 18)\n",
      "(348, 18)\n",
      "(348,)\n"
     ]
    }
   ],
   "source": [
    "# down sampling\n",
    "X_health_raw = training_set.loc[training_set['y'] == 0].drop(['y', 'smart_5_raw', 'smart_5_raw_increase'], axis='columns').values\n",
    "X_fail = training_set.loc[training_set['y'] == 1].drop(['y', 'smart_5_raw', 'smart_5_raw_increase'], axis='columns').values\n",
    "n_clusters = X_fail.shape[0] // 5\n",
    "# kmeans = KMeans(n_clusters=n_clusters, random_state=0, n_jobs=-1).fit(X_health_raw)\n",
    "kmeans = MiniBatchKMeans(n_clusters=n_clusters, random_state=0, batch_size=50000).fit(X_health_raw)\n",
    "X_health = np.concatenate([X_health_raw[np.argsort(kmeans.transform(X_health_raw)[:, j])[::-1][:10]] for j in range(0, n_clusters)], axis=0)\n",
    "X_train_raw = np.concatenate((X_health, X_fail), axis=0)\n",
    "\n",
    "scaler = MinMaxScaler()\n",
    "X_train = scaler.fit_transform(X_train_raw)\n",
    "y_train = np.concatenate((np.zeros(X_health.shape[0]), np.ones(X_fail.shape[0])), axis=0) \n",
    "\n",
    "print(X_fail.shape)\n",
    "print(X_train.shape)\n",
    "print(y_train.shape)"
   ]
  },
  {
   "cell_type": "code",
   "execution_count": 84,
   "metadata": {},
   "outputs": [
    {
     "data": {
      "text/plain": [
       "(348, 9)"
      ]
     },
     "execution_count": 84,
     "metadata": {},
     "output_type": "execute_result"
    }
   ],
   "source": [
    "# cart, rf (20-100 trees), svm, neural networks (3 layers 100 nodes), logistic regression\n",
    "X_transformed = PCA(n_components=0.95).fit_transform(X_train)\n",
    "X_transformed.shape"
   ]
  },
  {
   "cell_type": "code",
   "execution_count": 85,
   "metadata": {},
   "outputs": [
    {
     "name": "stderr",
     "output_type": "stream",
     "text": [
      "[Parallel(n_jobs=-1)]: Done   2 out of   5 | elapsed:    1.6s remaining:    2.5s\n",
      "[Parallel(n_jobs=-1)]: Done   5 out of   5 | elapsed:    2.7s finished\n"
     ]
    },
    {
     "data": {
      "text/plain": [
       "P      0.875092\n",
       "R      0.887319\n",
       "F       0.86248\n",
       "Sd    0.0745442\n",
       "Name: LR, dtype: object"
      ]
     },
     "execution_count": 85,
     "metadata": {},
     "output_type": "execute_result"
    }
   ],
   "source": [
    "# tune LR\n",
    "lr_model = LogisticRegressionCV(Cs=100, fit_intercept=True, cv=5, \n",
    "                                        dual=False, penalty='l2', scoring='f1', \n",
    "                                        solver='newton-cg',  max_iter=1000, class_weight='balanced',\n",
    "                                        n_jobs=-1, refit=True, multi_class='ovr', random_state=0, verbose=1)\n",
    "lr_model.fit(X_train, y_train)\n",
    "statics.loc['LR'] = model_stat(lr_model, X_train, y_train)\n",
    "statics.loc['LR']"
   ]
  },
  {
   "cell_type": "code",
   "execution_count": 86,
   "metadata": {},
   "outputs": [
    {
     "name": "stderr",
     "output_type": "stream",
     "text": [
      "[Parallel(n_jobs=-1)]: Done   2 out of   5 | elapsed:    1.8s remaining:    2.8s\n",
      "[Parallel(n_jobs=-1)]: Done   5 out of   5 | elapsed:    2.7s finished\n"
     ]
    },
    {
     "data": {
      "text/plain": [
       "P      0.860375\n",
       "R      0.886957\n",
       "F      0.849859\n",
       "Sd    0.0805825\n",
       "Name: LR, dtype: object"
      ]
     },
     "execution_count": 86,
     "metadata": {},
     "output_type": "execute_result"
    }
   ],
   "source": [
    "# tune LR\n",
    "lr_model = LogisticRegressionCV(Cs=100, fit_intercept=True, cv=5, \n",
    "                                        dual=False, penalty='l2', scoring='f1', \n",
    "                                        solver='newton-cg',  max_iter=1000, class_weight='balanced',\n",
    "                                        n_jobs=-1, refit=True, multi_class='ovr', random_state=0, verbose=1)\n",
    "lr_model.fit(X_transformed, y_train)\n",
    "statics.loc['LR'] = model_stat(lr_model, X_transformed, y_train)\n",
    "statics.loc['LR']"
   ]
  },
  {
   "cell_type": "code",
   "execution_count": 59,
   "metadata": {},
   "outputs": [
    {
     "ename": "NameError",
     "evalue": "name 'rf_model' is not defined",
     "output_type": "error",
     "traceback": [
      "\u001b[1;31m---------------------------------------------------------------------------\u001b[0m",
      "\u001b[1;31mNameError\u001b[0m                                 Traceback (most recent call last)",
      "\u001b[1;32m<ipython-input-59-d35d3eeab2a4>\u001b[0m in \u001b[0;36m<module>\u001b[1;34m()\u001b[0m\n\u001b[0;32m      2\u001b[0m \u001b[1;31m# print(np.sum(y_train))\u001b[0m\u001b[1;33m\u001b[0m\u001b[1;33m\u001b[0m\u001b[0m\n\u001b[0;32m      3\u001b[0m \u001b[1;31m# training_set.loc[training_set['y'] == 1].drop(['y'], axis='columns').head()\u001b[0m\u001b[1;33m\u001b[0m\u001b[1;33m\u001b[0m\u001b[0m\n\u001b[1;32m----> 4\u001b[1;33m \u001b[0mrf_model\u001b[0m\u001b[1;33m.\u001b[0m\u001b[0mfit\u001b[0m\u001b[1;33m(\u001b[0m\u001b[0mX_train\u001b[0m\u001b[1;33m,\u001b[0m \u001b[0my_train\u001b[0m\u001b[1;33m)\u001b[0m\u001b[1;33m\u001b[0m\u001b[0m\n\u001b[0m\u001b[0;32m      5\u001b[0m \u001b[0mrf_model\u001b[0m\u001b[1;33m.\u001b[0m\u001b[0mfeature_importances_\u001b[0m\u001b[1;33m\u001b[0m\u001b[0m\n",
      "\u001b[1;31mNameError\u001b[0m: name 'rf_model' is not defined"
     ]
    }
   ],
   "source": [
    "# print(np.sum(y))\n",
    "# print(np.sum(y_train))\n",
    "# training_set.loc[training_set['y'] == 1].drop(['y'], axis='columns').head()\n",
    "rf_model.fit(X_train, y_train)\n",
    "rf_model.feature_importances_"
   ]
  },
  {
   "cell_type": "code",
   "execution_count": 60,
   "metadata": {},
   "outputs": [
    {
     "data": {
      "text/plain": [
       "P     0.834255\n",
       "R     0.757971\n",
       "F     0.754298\n",
       "Sd    0.115433\n",
       "Name: SVM, dtype: object"
      ]
     },
     "execution_count": 60,
     "metadata": {},
     "output_type": "execute_result"
    }
   ],
   "source": [
    "# tune SVM\n",
    "svm_model = SVC(C=1.05, kernel='rbf', gamma=0.05, class_weight='balanced', max_iter=-1, random_state=0)\n",
    "statics.loc['SVM'] = model_stat(svm_model, X_transformed, y_train)\n",
    "statics.loc['SVM']"
   ]
  },
  {
   "cell_type": "code",
   "execution_count": 90,
   "metadata": {},
   "outputs": [
    {
     "name": "stdout",
     "output_type": "stream",
     "text": [
      "Feature ranking:\n",
      "1. feature 2 (0.323833)\n",
      "2. feature 3 (0.111671)\n",
      "3. feature 5 (0.102283)\n",
      "4. feature 11 (0.099037)\n",
      "5. feature 1 (0.071705)\n",
      "6. feature 6 (0.071186)\n",
      "7. feature 4 (0.062352)\n",
      "8. feature 15 (0.041416)\n",
      "9. feature 7 (0.041189)\n",
      "10. feature 9 (0.023053)\n",
      "11. feature 0 (0.022485)\n",
      "12. feature 8 (0.009711)\n",
      "13. feature 12 (0.009114)\n",
      "14. feature 10 (0.008876)\n",
      "15. feature 16 (0.002075)\n",
      "16. feature 13 (0.000014)\n",
      "17. feature 14 (0.000000)\n",
      "18. feature 17 (0.000000)\n"
     ]
    },
    {
     "data": {
      "image/png": "[encoded data removed]",
      "text/plain": [
       "<matplotlib.figure.Figure at 0x2a8e6e55320>"
      ]
     },
     "metadata": {},
     "output_type": "display_data"
    },
    {
     "data": {
      "text/plain": [
       "P         0.992\n",
       "R       0.90471\n",
       "F      0.963351\n",
       "Sd    0.0326374\n",
       "Name: RF, dtype: object"
      ]
     },
     "execution_count": 90,
     "metadata": {},
     "output_type": "execute_result"
    }
   ],
   "source": [
    "# tune RF\n",
    "rf_model = RandomForestClassifier()\n",
    "\n",
    "# Start\n",
    "forest = rf_model\n",
    "forest.fit(X_train, y_train)\n",
    "importances = forest.feature_importances_\n",
    "std = np.std([tree.feature_importances_ for tree in forest.estimators_],\n",
    "             axis=0)\n",
    "indices = np.argsort(importances)[::-1]\n",
    "\n",
    "# Print the feature ranking\n",
    "print(\"Feature ranking:\")\n",
    "\n",
    "for f in range(X_train.shape[1]):\n",
    "    print(\"%d. feature %d (%f)\" % (f + 1, indices[f], importances[indices[f]]))\n",
    "\n",
    "# Plot the feature importances of the forest\n",
    "plt.figure()\n",
    "plt.title(\"Feature importances\")\n",
    "plt.bar(range(X_train.shape[1]), importances[indices],\n",
    "       color=\"r\", yerr=std[indices], align=\"center\")\n",
    "# plt.xticks(df.columns.values, indices)\n",
    "plt.xticks(range(X_train.shape[1]), indices)\n",
    "plt.xlim([-1, X_train.shape[1]])\n",
    "plt.show()\n",
    "\n",
    "# End\n",
    "\n",
    "statics.loc['RF'] = model_stat(rf_model, X_transformed, y_train)\n",
    "statics.loc['RF']"
   ]
  },
  {
   "cell_type": "code",
   "execution_count": 78,
   "metadata": {},
   "outputs": [],
   "source": [
    "# # rf_model.fit(X_, y_train)\n",
    "# print(rf_model.feature_importances_)\n",
    "# training_set.loc[training_set['y'] == 0].drop(['y'], axis='columns').columns"
   ]
  },
  {
   "cell_type": "code",
   "execution_count": 91,
   "metadata": {},
   "outputs": [
    {
     "data": {
      "text/plain": [
       "P     0.990476\n",
       "R     0.871014\n",
       "F     0.926405\n",
       "Sd    0.030712\n",
       "Name: CART, dtype: object"
      ]
     },
     "execution_count": 91,
     "metadata": {},
     "output_type": "execute_result"
    }
   ],
   "source": [
    "# tune DT\n",
    "dt_model = DecisionTreeClassifier()\n",
    "statics.loc['CART'] = model_stat(dt_model, X_transformed, y_train)\n",
    "statics.loc['CART']"
   ]
  },
  {
   "cell_type": "code",
   "execution_count": 92,
   "metadata": {},
   "outputs": [
    {
     "data": {
      "text/plain": [
       "P         0.992\n",
       "R      0.888043\n",
       "F      0.959316\n",
       "Sd    0.0274438\n",
       "Name: NN, dtype: object"
      ]
     },
     "execution_count": 92,
     "metadata": {},
     "output_type": "execute_result"
    }
   ],
   "source": [
    "# tune NN\n",
    "nn_model = MLPClassifier(hidden_layer_sizes=(100, 100, 100))\n",
    "statics.loc['NN'] = model_stat(nn_model, X_transformed, y_train)\n",
    "statics.loc['NN']"
   ]
  },
  {
   "cell_type": "code",
   "execution_count": 93,
   "metadata": {
    "scrolled": true
   },
   "outputs": [
    {
     "data": {
      "text/html": [
       "<div>\n",
       "<style scoped>\n",
       "    .dataframe tbody tr th:only-of-type {\n",
       "        vertical-align: middle;\n",
       "    }\n",
       "\n",
       "    .dataframe tbody tr th {\n",
       "        vertical-align: top;\n",
       "    }\n",
       "\n",
       "    .dataframe thead th {\n",
       "        text-align: right;\n",
       "    }\n",
       "</style>\n",
       "<table border=\"1\" class=\"dataframe\">\n",
       "  <thead>\n",
       "    <tr style=\"text-align: right;\">\n",
       "      <th></th>\n",
       "      <th>CART</th>\n",
       "      <th>SVM</th>\n",
       "      <th>NN</th>\n",
       "      <th>LR</th>\n",
       "      <th>RF</th>\n",
       "    </tr>\n",
       "  </thead>\n",
       "  <tbody>\n",
       "    <tr>\n",
       "      <th>P</th>\n",
       "      <td>0.990476</td>\n",
       "      <td>0.834255</td>\n",
       "      <td>0.992</td>\n",
       "      <td>0.860375</td>\n",
       "      <td>0.992</td>\n",
       "    </tr>\n",
       "    <tr>\n",
       "      <th>R</th>\n",
       "      <td>0.871014</td>\n",
       "      <td>0.757971</td>\n",
       "      <td>0.888043</td>\n",
       "      <td>0.886957</td>\n",
       "      <td>0.90471</td>\n",
       "    </tr>\n",
       "    <tr>\n",
       "      <th>F</th>\n",
       "      <td>0.926405</td>\n",
       "      <td>0.754298</td>\n",
       "      <td>0.959316</td>\n",
       "      <td>0.849859</td>\n",
       "      <td>0.963351</td>\n",
       "    </tr>\n",
       "    <tr>\n",
       "      <th>Sd</th>\n",
       "      <td>0.030712</td>\n",
       "      <td>0.115433</td>\n",
       "      <td>0.0274438</td>\n",
       "      <td>0.0805825</td>\n",
       "      <td>0.0326374</td>\n",
       "    </tr>\n",
       "  </tbody>\n",
       "</table>\n",
       "</div>"
      ],
      "text/plain": [
       "        CART       SVM         NN         LR         RF\n",
       "P   0.990476  0.834255      0.992   0.860375      0.992\n",
       "R   0.871014  0.757971   0.888043   0.886957    0.90471\n",
       "F   0.926405  0.754298   0.959316   0.849859   0.963351\n",
       "Sd  0.030712  0.115433  0.0274438  0.0805825  0.0326374"
      ]
     },
     "execution_count": 93,
     "metadata": {},
     "output_type": "execute_result"
    }
   ],
   "source": [
    "statics.T.to_csv('./preprocess/' + model_name + '_finalstatics.csv')\n",
    "statics.T"
   ]
  },
  {
   "cell_type": "code",
   "execution_count": null,
   "metadata": {},
   "outputs": [],
   "source": []
  }
 ],
 "metadata": {
  "kernelspec": {
   "display_name": "Python 3",
   "language": "python",
   "name": "python3"
  },
  "language_info": {
   "codemirror_mode": {
    "name": "ipython",
    "version": 3
   },
   "file_extension": ".py",
   "mimetype": "text/x-python",
   "name": "python",
   "nbconvert_exporter": "python",
   "pygments_lexer": "ipython3",
   "version": "3.6.4"
  }
 },
 "nbformat": 4,
 "nbformat_minor": 2
}
