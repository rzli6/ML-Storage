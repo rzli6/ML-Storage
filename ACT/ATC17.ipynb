{
 "cells": [
  {
   "cell_type": "code",
   "execution_count": 1,
   "metadata": {},
   "outputs": [],
   "source": [
    "import numpy as np\n",
    "import pandas as pd\n",
    "import os, datetime\n",
    "from sklearn.linear_model import LogisticRegression, LogisticRegressionCV\n",
    "from sklearn.svm import SVC\n",
    "from sklearn.model_selection import KFold, cross_val_score, RandomizedSearchCV, GridSearchCV\n",
    "from sklearn.metrics import precision_score, recall_score, f1_score\n",
    "from sklearn.preprocessing import MinMaxScaler\n",
    "from sklearn.cluster import KMeans, MiniBatchKMeans\n",
    "from sklearn.decomposition import PCA\n",
    "from sklearn.ensemble import RandomForestClassifier\n",
    "from sklearn.tree import DecisionTreeClassifier\n",
    "from sklearn.neural_network import MLPClassifier"
   ]
  },
  {
   "cell_type": "code",
   "execution_count": 4,
   "metadata": {},
   "outputs": [
    {
     "data": {
      "text/html": [
       "<div>\n",
       "<style scoped>\n",
       "    .dataframe tbody tr th:only-of-type {\n",
       "        vertical-align: middle;\n",
       "    }\n",
       "\n",
       "    .dataframe tbody tr th {\n",
       "        vertical-align: top;\n",
       "    }\n",
       "\n",
       "    .dataframe thead th {\n",
       "        text-align: right;\n",
       "    }\n",
       "</style>\n",
       "<table border=\"1\" class=\"dataframe\">\n",
       "  <thead>\n",
       "    <tr style=\"text-align: right;\">\n",
       "      <th></th>\n",
       "      <th>P</th>\n",
       "      <th>R</th>\n",
       "      <th>F</th>\n",
       "      <th>Sd</th>\n",
       "    </tr>\n",
       "  </thead>\n",
       "  <tbody>\n",
       "    <tr>\n",
       "      <th>CART</th>\n",
       "      <td>NaN</td>\n",
       "      <td>NaN</td>\n",
       "      <td>NaN</td>\n",
       "      <td>NaN</td>\n",
       "    </tr>\n",
       "    <tr>\n",
       "      <th>SVM</th>\n",
       "      <td>NaN</td>\n",
       "      <td>NaN</td>\n",
       "      <td>NaN</td>\n",
       "      <td>NaN</td>\n",
       "    </tr>\n",
       "    <tr>\n",
       "      <th>NN</th>\n",
       "      <td>NaN</td>\n",
       "      <td>NaN</td>\n",
       "      <td>NaN</td>\n",
       "      <td>NaN</td>\n",
       "    </tr>\n",
       "    <tr>\n",
       "      <th>LR</th>\n",
       "      <td>NaN</td>\n",
       "      <td>NaN</td>\n",
       "      <td>NaN</td>\n",
       "      <td>NaN</td>\n",
       "    </tr>\n",
       "    <tr>\n",
       "      <th>RF</th>\n",
       "      <td>NaN</td>\n",
       "      <td>NaN</td>\n",
       "      <td>NaN</td>\n",
       "      <td>NaN</td>\n",
       "    </tr>\n",
       "  </tbody>\n",
       "</table>\n",
       "</div>"
      ],
      "text/plain": [
       "        P    R    F   Sd\n",
       "CART  NaN  NaN  NaN  NaN\n",
       "SVM   NaN  NaN  NaN  NaN\n",
       "NN    NaN  NaN  NaN  NaN\n",
       "LR    NaN  NaN  NaN  NaN\n",
       "RF    NaN  NaN  NaN  NaN"
      ]
     },
     "execution_count": 4,
     "metadata": {},
     "output_type": "execute_result"
    }
   ],
   "source": [
    "model_name = 'ST3000DM001'\n",
    "data_dirs = ['../data-2014/', '../data-2015/']\n",
    "attributes = ['smart_1_raw', 'smart_4_raw', 'smart_5_raw', 'smart_7_raw', 'smart_9_raw', 'smart_12_raw', 'smart_187_raw', 'smart_193_raw', 'smart_194_raw', 'smart_197_raw', 'smart_199_raw']\n",
    "drive_models = ['ST4000DM000', 'ST3000DM001', 'Hitachi HDS5C3030ALA630', 'Hitachi HDS722020ALA330', 'Hitachi HDS5C4040ALE630', 'HGST HMS5C4040ALE640', 'HGST HMS5C4040BLE640']\n",
    "features = ['serial_number', 'date', 'capacity_bytes', 'smart_5_raw', 'smart_1_raw', 'smart_4_raw', 'smart_7_raw', 'smart_9_raw', 'smart_12_raw', 'smart_187_raw', 'smart_193_raw', 'smart_194_raw', 'smart_197_raw', 'smart_199_raw', 'smart_196_raw']\n",
    "type_dict = {feature: np.float32 for feature in features[3:]}\n",
    "\n",
    "def model_stat(model, X, y):\n",
    "    f_score = cross_val_score(model, X, y, cv=5, scoring='f1', n_jobs=-1)\n",
    "    r_score = cross_val_score(model, X, y, cv=5, scoring='recall', n_jobs=-1)\n",
    "    p_score = cross_val_score(model, X, y, cv=5, scoring='precision', n_jobs=-1)\n",
    "    return pd.Series({'P': np.mean(p_score), 'R': np.mean(r_score), 'F': np.mean(f_score), 'Sd': np.std(f_score)})\n",
    "\n",
    "statics = pd.DataFrame(index=['CART', 'SVM', 'NN', 'LR', 'RF'], columns=['P', 'R', 'F', 'Sd'])\n",
    "statics"
   ]
  },
  {
   "cell_type": "code",
   "execution_count": 41,
   "metadata": {},
   "outputs": [],
   "source": [
    "for model_name in drive_models:\n",
    "    drive_model = pd.concat([(lambda pd: pd.loc[pd['model'] == model_name][features])(pd.read_csv(os.path.join(data_dir, filename), dtype=type_dict)) for data_dir in data_dirs for filename in os.listdir(data_dir)]).sort_values(by=['serial_number', 'date'])\n",
    "    drive_model.to_csv('./preprocess/' + model_name + '.csv')"
   ]
  },
  {
   "cell_type": "code",
   "execution_count": 42,
   "metadata": {},
   "outputs": [
    {
     "data": {
      "text/html": [
       "<div>\n",
       "<style scoped>\n",
       "    .dataframe tbody tr th:only-of-type {\n",
       "        vertical-align: middle;\n",
       "    }\n",
       "\n",
       "    .dataframe tbody tr th {\n",
       "        vertical-align: top;\n",
       "    }\n",
       "\n",
       "    .dataframe thead th {\n",
       "        text-align: right;\n",
       "    }\n",
       "</style>\n",
       "<table border=\"1\" class=\"dataframe\">\n",
       "  <thead>\n",
       "    <tr style=\"text-align: right;\">\n",
       "      <th></th>\n",
       "      <th>smart_5_raw</th>\n",
       "      <th>smart_187_raw</th>\n",
       "      <th>smart_196_raw</th>\n",
       "      <th>smart_197_raw</th>\n",
       "      <th>Capacity (TB)</th>\n",
       "      <th># Drives</th>\n",
       "    </tr>\n",
       "  </thead>\n",
       "  <tbody>\n",
       "    <tr>\n",
       "      <th>ST4000DM000</th>\n",
       "      <td>0.00966297</td>\n",
       "      <td>0.0183897</td>\n",
       "      <td>0</td>\n",
       "      <td>0.0199612</td>\n",
       "      <td>4</td>\n",
       "      <td>29908</td>\n",
       "    </tr>\n",
       "    <tr>\n",
       "      <th>ST3000DM001</th>\n",
       "      <td>0.240009</td>\n",
       "      <td>0.398025</td>\n",
       "      <td>0</td>\n",
       "      <td>0.325218</td>\n",
       "      <td>3</td>\n",
       "      <td>4354</td>\n",
       "    </tr>\n",
       "    <tr>\n",
       "      <th>Hitachi HDS5C3030ALA630</th>\n",
       "      <td>0.0366854</td>\n",
       "      <td>0</td>\n",
       "      <td>0.0358222</td>\n",
       "      <td>0.0205006</td>\n",
       "      <td>3</td>\n",
       "      <td>4634</td>\n",
       "    </tr>\n",
       "    <tr>\n",
       "      <th>Hitachi HDS722020ALA330</th>\n",
       "      <td>0.140384</td>\n",
       "      <td>0</td>\n",
       "      <td>0.139751</td>\n",
       "      <td>0.0542537</td>\n",
       "      <td>2</td>\n",
       "      <td>4737</td>\n",
       "    </tr>\n",
       "    <tr>\n",
       "      <th>Hitachi HDS5C4040ALE630</th>\n",
       "      <td>0.0193741</td>\n",
       "      <td>0</td>\n",
       "      <td>0.0197466</td>\n",
       "      <td>0.014158</td>\n",
       "      <td>4</td>\n",
       "      <td>2684</td>\n",
       "    </tr>\n",
       "    <tr>\n",
       "      <th>HGST HMS5C4040ALE640</th>\n",
       "      <td>0.00781359</td>\n",
       "      <td>0</td>\n",
       "      <td>0.00781359</td>\n",
       "      <td>0.00460444</td>\n",
       "      <td>4</td>\n",
       "      <td>7167</td>\n",
       "    </tr>\n",
       "    <tr>\n",
       "      <th>HGST HMS5C4040BLE640</th>\n",
       "      <td>0.00192616</td>\n",
       "      <td>0</td>\n",
       "      <td>0.00192616</td>\n",
       "      <td>0.00449438</td>\n",
       "      <td>4</td>\n",
       "      <td>3115</td>\n",
       "    </tr>\n",
       "  </tbody>\n",
       "</table>\n",
       "</div>"
      ],
      "text/plain": [
       "                        smart_5_raw smart_187_raw smart_196_raw smart_197_raw  \\\n",
       "ST4000DM000              0.00966297     0.0183897             0     0.0199612   \n",
       "ST3000DM001                0.240009      0.398025             0      0.325218   \n",
       "Hitachi HDS5C3030ALA630   0.0366854             0     0.0358222     0.0205006   \n",
       "Hitachi HDS722020ALA330    0.140384             0      0.139751     0.0542537   \n",
       "Hitachi HDS5C4040ALE630   0.0193741             0     0.0197466      0.014158   \n",
       "HGST HMS5C4040ALE640     0.00781359             0    0.00781359    0.00460444   \n",
       "HGST HMS5C4040BLE640     0.00192616             0    0.00192616    0.00449438   \n",
       "\n",
       "                        Capacity (TB) # Drives  \n",
       "ST4000DM000                         4    29908  \n",
       "ST3000DM001                         3     4354  \n",
       "Hitachi HDS5C3030ALA630             3     4634  \n",
       "Hitachi HDS722020ALA330             2     4737  \n",
       "Hitachi HDS5C4040ALE630             4     2684  \n",
       "HGST HMS5C4040ALE640                4     7167  \n",
       "HGST HMS5C4040BLE640                4     3115  "
      ]
     },
     "execution_count": 42,
     "metadata": {},
     "output_type": "execute_result"
    }
   ],
   "source": [
    "res_vars = ['smart_5_raw', 'smart_187_raw', 'smart_196_raw', 'smart_197_raw']\n",
    "overview = pd.DataFrame(index=drive_models, columns=res_vars+['Capacity (TB)', '# Drives'])\n",
    "type_dict = {key: np.float64 for key in res_vars}\n",
    "\n",
    "for model_name in drive_models:\n",
    "    drive_model = pd.read_csv('./preprocess/' + model_name + '.csv', dtype=type_dict)\n",
    "    percentage = drive_model.groupby('serial_number')[res_vars].sum().agg(lambda data: data[data>0].size/data.size)\n",
    "    percentage['Capacity (TB)'] = drive_model.iloc[0]['capacity_bytes'] // 1000**4\n",
    "    percentage['# Drives'] = drive_model['serial_number'].unique().size\n",
    "    overview.loc[model_name] = percentage\n",
    "    \n",
    "overview.to_csv('./preprocess/overview.csv')\n",
    "overview"
   ]
  },
  {
   "cell_type": "code",
   "execution_count": 43,
   "metadata": {},
   "outputs": [],
   "source": [
    "drive_model = pd.read_csv('./preprocess/' + model_name + '.csv', dtype=type_dict).iloc[:, 1:]"
   ]
  },
  {
   "cell_type": "code",
   "execution_count": 44,
   "metadata": {},
   "outputs": [
    {
     "data": {
      "text/html": [
       "<div>\n",
       "<style scoped>\n",
       "    .dataframe tbody tr th:only-of-type {\n",
       "        vertical-align: middle;\n",
       "    }\n",
       "\n",
       "    .dataframe tbody tr th {\n",
       "        vertical-align: top;\n",
       "    }\n",
       "\n",
       "    .dataframe thead th {\n",
       "        text-align: right;\n",
       "    }\n",
       "</style>\n",
       "<table border=\"1\" class=\"dataframe\">\n",
       "  <thead>\n",
       "    <tr style=\"text-align: right;\">\n",
       "      <th></th>\n",
       "      <th>serial_number</th>\n",
       "      <th>date</th>\n",
       "      <th>capacity_bytes</th>\n",
       "      <th>smart_5_raw</th>\n",
       "      <th>smart_1_raw</th>\n",
       "      <th>smart_4_raw</th>\n",
       "      <th>smart_7_raw</th>\n",
       "      <th>smart_9_raw</th>\n",
       "      <th>smart_12_raw</th>\n",
       "      <th>smart_187_raw</th>\n",
       "      <th>smart_193_raw</th>\n",
       "      <th>smart_194_raw</th>\n",
       "      <th>smart_197_raw</th>\n",
       "      <th>smart_199_raw</th>\n",
       "      <th>smart_196_raw</th>\n",
       "    </tr>\n",
       "  </thead>\n",
       "  <tbody>\n",
       "    <tr>\n",
       "      <th>0</th>\n",
       "      <td>S1F007YW</td>\n",
       "      <td>2014-01-01</td>\n",
       "      <td>3000592982016</td>\n",
       "      <td>0.0</td>\n",
       "      <td>31238664.0</td>\n",
       "      <td>NaN</td>\n",
       "      <td>NaN</td>\n",
       "      <td>15694.0</td>\n",
       "      <td>NaN</td>\n",
       "      <td>NaN</td>\n",
       "      <td>NaN</td>\n",
       "      <td>23.0</td>\n",
       "      <td>0.0</td>\n",
       "      <td>NaN</td>\n",
       "      <td>NaN</td>\n",
       "    </tr>\n",
       "    <tr>\n",
       "      <th>1</th>\n",
       "      <td>S1F007YW</td>\n",
       "      <td>2014-01-02</td>\n",
       "      <td>3000592982016</td>\n",
       "      <td>0.0</td>\n",
       "      <td>166023620.0</td>\n",
       "      <td>NaN</td>\n",
       "      <td>NaN</td>\n",
       "      <td>15718.0</td>\n",
       "      <td>NaN</td>\n",
       "      <td>NaN</td>\n",
       "      <td>NaN</td>\n",
       "      <td>22.0</td>\n",
       "      <td>0.0</td>\n",
       "      <td>NaN</td>\n",
       "      <td>NaN</td>\n",
       "    </tr>\n",
       "    <tr>\n",
       "      <th>2</th>\n",
       "      <td>S1F007YW</td>\n",
       "      <td>2014-01-03</td>\n",
       "      <td>3000592982016</td>\n",
       "      <td>0.0</td>\n",
       "      <td>232808220.0</td>\n",
       "      <td>NaN</td>\n",
       "      <td>NaN</td>\n",
       "      <td>15742.0</td>\n",
       "      <td>NaN</td>\n",
       "      <td>NaN</td>\n",
       "      <td>NaN</td>\n",
       "      <td>21.0</td>\n",
       "      <td>0.0</td>\n",
       "      <td>NaN</td>\n",
       "      <td>NaN</td>\n",
       "    </tr>\n",
       "    <tr>\n",
       "      <th>3</th>\n",
       "      <td>S1F007YW</td>\n",
       "      <td>2014-01-04</td>\n",
       "      <td>3000592982016</td>\n",
       "      <td>0.0</td>\n",
       "      <td>69066730.0</td>\n",
       "      <td>NaN</td>\n",
       "      <td>NaN</td>\n",
       "      <td>15766.0</td>\n",
       "      <td>NaN</td>\n",
       "      <td>NaN</td>\n",
       "      <td>NaN</td>\n",
       "      <td>21.0</td>\n",
       "      <td>0.0</td>\n",
       "      <td>NaN</td>\n",
       "      <td>NaN</td>\n",
       "    </tr>\n",
       "    <tr>\n",
       "      <th>4</th>\n",
       "      <td>S1F007YW</td>\n",
       "      <td>2014-01-05</td>\n",
       "      <td>3000592982016</td>\n",
       "      <td>0.0</td>\n",
       "      <td>136538580.0</td>\n",
       "      <td>NaN</td>\n",
       "      <td>NaN</td>\n",
       "      <td>15790.0</td>\n",
       "      <td>NaN</td>\n",
       "      <td>NaN</td>\n",
       "      <td>NaN</td>\n",
       "      <td>22.0</td>\n",
       "      <td>0.0</td>\n",
       "      <td>NaN</td>\n",
       "      <td>NaN</td>\n",
       "    </tr>\n",
       "  </tbody>\n",
       "</table>\n",
       "</div>"
      ],
      "text/plain": [
       "  serial_number       date  capacity_bytes  smart_5_raw  smart_1_raw  \\\n",
       "0      S1F007YW 2014-01-01   3000592982016          0.0   31238664.0   \n",
       "1      S1F007YW 2014-01-02   3000592982016          0.0  166023620.0   \n",
       "2      S1F007YW 2014-01-03   3000592982016          0.0  232808220.0   \n",
       "3      S1F007YW 2014-01-04   3000592982016          0.0   69066730.0   \n",
       "4      S1F007YW 2014-01-05   3000592982016          0.0  136538580.0   \n",
       "\n",
       "   smart_4_raw  smart_7_raw  smart_9_raw  smart_12_raw  smart_187_raw  \\\n",
       "0          NaN          NaN      15694.0           NaN            NaN   \n",
       "1          NaN          NaN      15718.0           NaN            NaN   \n",
       "2          NaN          NaN      15742.0           NaN            NaN   \n",
       "3          NaN          NaN      15766.0           NaN            NaN   \n",
       "4          NaN          NaN      15790.0           NaN            NaN   \n",
       "\n",
       "   smart_193_raw  smart_194_raw  smart_197_raw  smart_199_raw  smart_196_raw  \n",
       "0            NaN           23.0            0.0            NaN            NaN  \n",
       "1            NaN           22.0            0.0            NaN            NaN  \n",
       "2            NaN           21.0            0.0            NaN            NaN  \n",
       "3            NaN           21.0            0.0            NaN            NaN  \n",
       "4            NaN           22.0            0.0            NaN            NaN  "
      ]
     },
     "execution_count": 44,
     "metadata": {},
     "output_type": "execute_result"
    }
   ],
   "source": [
    "df = drive_model.sort_values(by=['serial_number', 'date'])\n",
    "df['date'] = pd.to_datetime(df['date'])\n",
    "df.head()"
   ]
  },
  {
   "cell_type": "code",
   "execution_count": 45,
   "metadata": {},
   "outputs": [
    {
     "data": {
      "text/plain": [
       "(155442, 21)"
      ]
     },
     "execution_count": 45,
     "metadata": {},
     "output_type": "execute_result"
    }
   ],
   "source": [
    "# week = ['W-SUN', 'W-MON', 'W-TUE', 'W-WED', 'W-THU', 'W-FRI', 'W-SAT']\n",
    "df2 = df.copy()\n",
    "df2['date'] += datetime.timedelta(days=1)\n",
    "\n",
    "day = 'W-MON'\n",
    "model_group = df.groupby(['serial_number', pd.Grouper(key='date', freq=day)])\n",
    "y = model_group['smart_5_raw'].last().to_frame().rename({'smart_5_raw': 'y'}, axis='columns')\n",
    "\n",
    "model_group2 = df2.groupby(['serial_number', pd.Grouper(key='date', freq=day)])\n",
    "input1 = model_group2[attributes].last()\n",
    "\n",
    "training_set = y.join(other=input1, how='inner')\n",
    "training_set['y'] = np.where(training_set['y'] > training_set['smart_5_raw'], 1, 0)\n",
    "input2_features = ['smart_4_raw', 'smart_5_raw', 'smart_7_raw', 'smart_9_raw', 'smart_12_raw', 'smart_187_raw', 'smart_193_raw', 'smart_197_raw', 'smart_199_raw']\n",
    "input2 = training_set.groupby(level=0)[input2_features].transform(pd.DataFrame.diff).dropna(how='any')\n",
    "training_set = training_set.join(other=input2, how='inner', rsuffix='_increase')\n",
    "    \n",
    "training_set.to_csv('./preprocess/' + model_name + '_training_set.csv')\n",
    "training_set.shape"
   ]
  },
  {
   "cell_type": "code",
   "execution_count": 5,
   "metadata": {},
   "outputs": [
    {
     "data": {
      "text/html": [
       "<div>\n",
       "<style scoped>\n",
       "    .dataframe tbody tr th:only-of-type {\n",
       "        vertical-align: middle;\n",
       "    }\n",
       "\n",
       "    .dataframe tbody tr th {\n",
       "        vertical-align: top;\n",
       "    }\n",
       "\n",
       "    .dataframe thead th {\n",
       "        text-align: right;\n",
       "    }\n",
       "</style>\n",
       "<table border=\"1\" class=\"dataframe\">\n",
       "  <thead>\n",
       "    <tr style=\"text-align: right;\">\n",
       "      <th></th>\n",
       "      <th>y</th>\n",
       "      <th>smart_1_raw</th>\n",
       "      <th>smart_4_raw</th>\n",
       "      <th>smart_5_raw</th>\n",
       "      <th>smart_7_raw</th>\n",
       "      <th>smart_9_raw</th>\n",
       "      <th>smart_12_raw</th>\n",
       "      <th>smart_187_raw</th>\n",
       "      <th>smart_193_raw</th>\n",
       "      <th>smart_194_raw</th>\n",
       "      <th>...</th>\n",
       "      <th>smart_199_raw</th>\n",
       "      <th>smart_4_raw_increase</th>\n",
       "      <th>smart_5_raw_increase</th>\n",
       "      <th>smart_7_raw_increase</th>\n",
       "      <th>smart_9_raw_increase</th>\n",
       "      <th>smart_12_raw_increase</th>\n",
       "      <th>smart_187_raw_increase</th>\n",
       "      <th>smart_193_raw_increase</th>\n",
       "      <th>smart_197_raw_increase</th>\n",
       "      <th>smart_199_raw_increase</th>\n",
       "    </tr>\n",
       "  </thead>\n",
       "  <tbody>\n",
       "    <tr>\n",
       "      <th>0</th>\n",
       "      <td>0</td>\n",
       "      <td>198836320.0</td>\n",
       "      <td>43.0</td>\n",
       "      <td>0.0</td>\n",
       "      <td>33996100.0</td>\n",
       "      <td>16964.0</td>\n",
       "      <td>43.0</td>\n",
       "      <td>0.0</td>\n",
       "      <td>45110.0</td>\n",
       "      <td>23.0</td>\n",
       "      <td>...</td>\n",
       "      <td>0.0</td>\n",
       "      <td>0.0</td>\n",
       "      <td>0.0</td>\n",
       "      <td>9637436.0</td>\n",
       "      <td>168.0</td>\n",
       "      <td>0.0</td>\n",
       "      <td>0.0</td>\n",
       "      <td>0.0</td>\n",
       "      <td>0.0</td>\n",
       "      <td>0.0</td>\n",
       "    </tr>\n",
       "    <tr>\n",
       "      <th>1</th>\n",
       "      <td>0</td>\n",
       "      <td>148600700.0</td>\n",
       "      <td>43.0</td>\n",
       "      <td>0.0</td>\n",
       "      <td>44114000.0</td>\n",
       "      <td>17133.0</td>\n",
       "      <td>43.0</td>\n",
       "      <td>0.0</td>\n",
       "      <td>45110.0</td>\n",
       "      <td>22.0</td>\n",
       "      <td>...</td>\n",
       "      <td>0.0</td>\n",
       "      <td>0.0</td>\n",
       "      <td>0.0</td>\n",
       "      <td>10117900.0</td>\n",
       "      <td>169.0</td>\n",
       "      <td>0.0</td>\n",
       "      <td>0.0</td>\n",
       "      <td>0.0</td>\n",
       "      <td>0.0</td>\n",
       "      <td>0.0</td>\n",
       "    </tr>\n",
       "    <tr>\n",
       "      <th>2</th>\n",
       "      <td>0</td>\n",
       "      <td>122530840.0</td>\n",
       "      <td>43.0</td>\n",
       "      <td>0.0</td>\n",
       "      <td>52302384.0</td>\n",
       "      <td>17301.0</td>\n",
       "      <td>43.0</td>\n",
       "      <td>0.0</td>\n",
       "      <td>45110.0</td>\n",
       "      <td>23.0</td>\n",
       "      <td>...</td>\n",
       "      <td>0.0</td>\n",
       "      <td>0.0</td>\n",
       "      <td>0.0</td>\n",
       "      <td>8188384.0</td>\n",
       "      <td>168.0</td>\n",
       "      <td>0.0</td>\n",
       "      <td>0.0</td>\n",
       "      <td>0.0</td>\n",
       "      <td>0.0</td>\n",
       "      <td>0.0</td>\n",
       "    </tr>\n",
       "    <tr>\n",
       "      <th>3</th>\n",
       "      <td>0</td>\n",
       "      <td>60100630.0</td>\n",
       "      <td>46.0</td>\n",
       "      <td>0.0</td>\n",
       "      <td>53521120.0</td>\n",
       "      <td>17468.0</td>\n",
       "      <td>46.0</td>\n",
       "      <td>0.0</td>\n",
       "      <td>51014.0</td>\n",
       "      <td>21.0</td>\n",
       "      <td>...</td>\n",
       "      <td>0.0</td>\n",
       "      <td>3.0</td>\n",
       "      <td>0.0</td>\n",
       "      <td>1218736.0</td>\n",
       "      <td>167.0</td>\n",
       "      <td>3.0</td>\n",
       "      <td>0.0</td>\n",
       "      <td>5904.0</td>\n",
       "      <td>0.0</td>\n",
       "      <td>0.0</td>\n",
       "    </tr>\n",
       "    <tr>\n",
       "      <th>4</th>\n",
       "      <td>0</td>\n",
       "      <td>161701490.0</td>\n",
       "      <td>47.0</td>\n",
       "      <td>0.0</td>\n",
       "      <td>60648016.0</td>\n",
       "      <td>17635.0</td>\n",
       "      <td>47.0</td>\n",
       "      <td>0.0</td>\n",
       "      <td>52712.0</td>\n",
       "      <td>23.0</td>\n",
       "      <td>...</td>\n",
       "      <td>0.0</td>\n",
       "      <td>1.0</td>\n",
       "      <td>0.0</td>\n",
       "      <td>7126896.0</td>\n",
       "      <td>167.0</td>\n",
       "      <td>1.0</td>\n",
       "      <td>0.0</td>\n",
       "      <td>1698.0</td>\n",
       "      <td>0.0</td>\n",
       "      <td>0.0</td>\n",
       "    </tr>\n",
       "  </tbody>\n",
       "</table>\n",
       "<p>5 rows × 21 columns</p>\n",
       "</div>"
      ],
      "text/plain": [
       "   y  smart_1_raw  smart_4_raw  smart_5_raw  smart_7_raw  smart_9_raw  \\\n",
       "0  0  198836320.0         43.0          0.0   33996100.0      16964.0   \n",
       "1  0  148600700.0         43.0          0.0   44114000.0      17133.0   \n",
       "2  0  122530840.0         43.0          0.0   52302384.0      17301.0   \n",
       "3  0   60100630.0         46.0          0.0   53521120.0      17468.0   \n",
       "4  0  161701490.0         47.0          0.0   60648016.0      17635.0   \n",
       "\n",
       "   smart_12_raw  smart_187_raw  smart_193_raw  smart_194_raw  \\\n",
       "0          43.0            0.0        45110.0           23.0   \n",
       "1          43.0            0.0        45110.0           22.0   \n",
       "2          43.0            0.0        45110.0           23.0   \n",
       "3          46.0            0.0        51014.0           21.0   \n",
       "4          47.0            0.0        52712.0           23.0   \n",
       "\n",
       "            ...            smart_199_raw  smart_4_raw_increase  \\\n",
       "0           ...                      0.0                   0.0   \n",
       "1           ...                      0.0                   0.0   \n",
       "2           ...                      0.0                   0.0   \n",
       "3           ...                      0.0                   3.0   \n",
       "4           ...                      0.0                   1.0   \n",
       "\n",
       "   smart_5_raw_increase  smart_7_raw_increase  smart_9_raw_increase  \\\n",
       "0                   0.0             9637436.0                 168.0   \n",
       "1                   0.0            10117900.0                 169.0   \n",
       "2                   0.0             8188384.0                 168.0   \n",
       "3                   0.0             1218736.0                 167.0   \n",
       "4                   0.0             7126896.0                 167.0   \n",
       "\n",
       "   smart_12_raw_increase  smart_187_raw_increase  smart_193_raw_increase  \\\n",
       "0                    0.0                     0.0                     0.0   \n",
       "1                    0.0                     0.0                     0.0   \n",
       "2                    0.0                     0.0                     0.0   \n",
       "3                    3.0                     0.0                  5904.0   \n",
       "4                    1.0                     0.0                  1698.0   \n",
       "\n",
       "   smart_197_raw_increase  smart_199_raw_increase  \n",
       "0                     0.0                     0.0  \n",
       "1                     0.0                     0.0  \n",
       "2                     0.0                     0.0  \n",
       "3                     0.0                     0.0  \n",
       "4                     0.0                     0.0  \n",
       "\n",
       "[5 rows x 21 columns]"
      ]
     },
     "execution_count": 5,
     "metadata": {},
     "output_type": "execute_result"
    }
   ],
   "source": [
    "training_set = pd.read_csv('./preprocess/' + model_name + '_training_set.csv').drop(['serial_number', 'date'], axis='columns')\n",
    "training_set.head()"
   ]
  },
  {
   "cell_type": "code",
   "execution_count": 44,
   "metadata": {},
   "outputs": [
    {
     "data": {
      "text/plain": [
       "Index(['y', 'smart_1_raw', 'smart_4_raw', 'smart_5_raw', 'smart_7_raw',\n",
       "       'smart_9_raw', 'smart_12_raw', 'smart_187_raw', 'smart_193_raw',\n",
       "       'smart_194_raw', 'smart_197_raw', 'smart_199_raw',\n",
       "       'smart_4_raw_increase', 'smart_5_raw_increase', 'smart_7_raw_increase',\n",
       "       'smart_9_raw_increase', 'smart_12_raw_increase',\n",
       "       'smart_187_raw_increase', 'smart_193_raw_increase',\n",
       "       'smart_197_raw_increase', 'smart_199_raw_increase'],\n",
       "      dtype='object')"
      ]
     },
     "execution_count": 44,
     "metadata": {},
     "output_type": "execute_result"
    }
   ],
   "source": [
    "training_set.columns"
   ]
  },
  {
   "cell_type": "code",
   "execution_count": 30,
   "metadata": {},
   "outputs": [],
   "source": [
    "from sklearn.tree import _tree\n",
    "\n",
    "def tree_to_code(tree, feature_names):\n",
    "    tree_ = tree.tree_\n",
    "    feature_name = [\n",
    "        feature_names[i] if i != _tree.TREE_UNDEFINED else \"undefined!\"\n",
    "        for i in tree_.feature\n",
    "    ]\n",
    "    print(\"def tree({}):\".format(\", \".join(feature_names)))\n",
    "\n",
    "    def recurse(node, depth):\n",
    "        indent = \"  \" * depth\n",
    "        if tree_.feature[node] != _tree.TREE_UNDEFINED:\n",
    "            name = feature_name[node]\n",
    "            threshold = tree_.threshold[node]\n",
    "            print(\"{}if {} <= {}:\".format(indent, name, threshold))\n",
    "            recurse(tree_.children_left[node], depth + 1)\n",
    "            print(\"{}else:  # if {} > {}\".format(indent, name, threshold))\n",
    "            recurse(tree_.children_right[node], depth + 1)\n",
    "        else:\n",
    "            print(\"{}return {}\".format(indent, tree_.value[node]))\n",
    "\n",
    "    recurse(0, 1)\n"
   ]
  },
  {
   "cell_type": "code",
   "execution_count": 31,
   "metadata": {},
   "outputs": [
    {
     "name": "stdout",
     "output_type": "stream",
     "text": [
      "def tree(smart_1_raw, smart_4_raw, smart_5_raw, smart_7_raw, smart_9_raw, smart_12_raw, smart_187_raw, smart_193_raw, smart_194_raw, smart_197_raw, smart_199_raw, smart_4_raw_increase, smart_5_raw_increase, smart_7_raw_increase, smart_9_raw_increase, smart_12_raw_increase, smart_187_raw_increase, smart_193_raw_increase, smart_197_raw_increase, smart_199_raw_increase):\n",
      "  if smart_7_raw <= 0.5141103267669678:\n",
      "    return [[   0. 3799.]]\n",
      "  else:  # if smart_7_raw > 0.5141103267669678\n",
      "    return [[7590.    0.]]\n"
     ]
    }
   ],
   "source": [
    "# tune DT\n",
    "dt_model = DecisionTreeClassifier()\n",
    "dt_model.fit(X_train, y_train)\n",
    "tree_to_code(dt_model, training_set.drop(['y'], axis='columns').columns)"
   ]
  },
  {
   "cell_type": "code",
   "execution_count": null,
   "metadata": {},
   "outputs": [],
   "source": [
    "training_set.drop(['y'], axis='columns').columns"
   ]
  },
  {
   "cell_type": "code",
   "execution_count": 32,
   "metadata": {},
   "outputs": [
    {
     "name": "stdout",
     "output_type": "stream",
     "text": [
      "(3799, 18)\n",
      "(11389, 18)\n",
      "(11389,)\n"
     ]
    }
   ],
   "source": [
    "# down sampling\n",
    "X_health_raw = training_set.loc[training_set['y'] == 0].drop(['y', 'smart_7_raw', 'smart_9_raw'], axis='columns').values\n",
    "X_fail = training_set.loc[training_set['y'] == 1].drop(['y', 'smart_7_raw', 'smart_9_raw'], axis='columns').values\n",
    "n_clusters = X_fail.shape[0] // 5\n",
    "# kmeans = KMeans(n_clusters=n_clusters, random_state=0, n_jobs=-1).fit(X_health_raw)\n",
    "kmeans = MiniBatchKMeans(n_clusters=n_clusters, random_state=0, batch_size=50000).fit(X_health_raw)\n",
    "X_health = np.concatenate([X_health_raw[np.argsort(kmeans.transform(X_health_raw)[:, j])[::-1][:10]] for j in range(0, n_clusters)], axis=0)\n",
    "X_train_raw = np.concatenate((X_health, X_fail), axis=0)\n",
    "\n",
    "scaler = MinMaxScaler()\n",
    "X_train = scaler.fit_transform(X_train_raw)\n",
    "y_train = np.concatenate((np.zeros(X_health.shape[0]), np.ones(X_fail.shape[0])), axis=0) \n",
    "\n",
    "print(X_fail.shape)\n",
    "print(X_train.shape)\n",
    "print(y_train.shape)"
   ]
  },
  {
   "cell_type": "code",
   "execution_count": 33,
   "metadata": {},
   "outputs": [
    {
     "data": {
      "text/plain": [
       "(11389, 8)"
      ]
     },
     "execution_count": 33,
     "metadata": {},
     "output_type": "execute_result"
    }
   ],
   "source": [
    "# cart, rf (20-100 trees), svm, neural networks (3 layers 100 nodes), logistic regression\n",
    "X_transformed = PCA(n_components=0.95).fit_transform(X_train)\n",
    "X_transformed.shape"
   ]
  },
  {
   "cell_type": "code",
   "execution_count": 34,
   "metadata": {},
   "outputs": [
    {
     "name": "stderr",
     "output_type": "stream",
     "text": [
      "[Parallel(n_jobs=-1)]: Done   2 out of   5 | elapsed:   10.4s remaining:   15.6s\n",
      "[Parallel(n_jobs=-1)]: Done   5 out of   5 | elapsed:   11.3s finished\n"
     ]
    },
    {
     "data": {
      "text/plain": [
       "P     1.000000\n",
       "R     0.837327\n",
       "F     0.910404\n",
       "Sd    0.034052\n",
       "Name: LR, dtype: float64"
      ]
     },
     "execution_count": 34,
     "metadata": {},
     "output_type": "execute_result"
    }
   ],
   "source": [
    "# tune LR\n",
    "lr_model = LogisticRegressionCV(Cs=100, fit_intercept=True, cv=5, \n",
    "                                        dual=False, penalty='l2', scoring='f1', \n",
    "                                        solver='newton-cg',  max_iter=1000, class_weight='balanced',\n",
    "                                        n_jobs=-1, refit=True, multi_class='ovr', random_state=0, verbose=1)\n",
    "lr_model.fit(X_train, y_train)\n",
    "statics.loc['LR'] = model_stat(lr_model, X_train, y_train)\n",
    "statics.loc['LR']"
   ]
  },
  {
   "cell_type": "code",
   "execution_count": 35,
   "metadata": {},
   "outputs": [
    {
     "name": "stderr",
     "output_type": "stream",
     "text": [
      "[Parallel(n_jobs=-1)]: Done   2 out of   5 | elapsed:    3.0s remaining:    4.5s\n",
      "[Parallel(n_jobs=-1)]: Done   5 out of   5 | elapsed:    3.8s finished\n"
     ]
    },
    {
     "data": {
      "text/plain": [
       "P     0.574484\n",
       "R     0.813889\n",
       "F     0.672989\n",
       "Sd    0.044650\n",
       "Name: LR, dtype: float64"
      ]
     },
     "execution_count": 35,
     "metadata": {},
     "output_type": "execute_result"
    }
   ],
   "source": [
    "# tune LR\n",
    "lr_model = LogisticRegressionCV(Cs=100, fit_intercept=True, cv=5, \n",
    "                                        dual=False, penalty='l2', scoring='f1', \n",
    "                                        solver='newton-cg',  max_iter=1000, class_weight='balanced',\n",
    "                                        n_jobs=-1, refit=True, multi_class='ovr', random_state=0, verbose=1)\n",
    "lr_model.fit(X_transformed, y_train)\n",
    "statics.loc['LR'] = model_stat(lr_model, X_transformed, y_train)\n",
    "statics.loc['LR']"
   ]
  },
  {
   "cell_type": "code",
   "execution_count": 43,
   "metadata": {},
   "outputs": [
    {
     "data": {
      "text/plain": [
       "array([1.50848012e-02, 3.00575373e-02, 1.85648043e-01, 4.57764367e-03,\n",
       "       1.80090308e-01, 5.25039308e-02, 1.84854078e-03, 2.22339059e-02,\n",
       "       3.23804393e-02, 2.51713725e-07, 3.94904706e-02, 2.73948703e-01,\n",
       "       2.19117058e-02, 3.49078540e-04, 6.55946181e-02, 7.40431769e-02,\n",
       "       2.36845055e-04, 0.00000000e+00])"
      ]
     },
     "execution_count": 43,
     "metadata": {},
     "output_type": "execute_result"
    }
   ],
   "source": [
    "# print(np.sum(y))\n",
    "# print(np.sum(y_train))\n",
    "# training_set.loc[training_set['y'] == 1].drop(['y'], axis='columns').head()\n",
    "rf_model.fit(X_train, y_train)\n",
    "rf_model.feature_importances_"
   ]
  },
  {
   "cell_type": "code",
   "execution_count": 37,
   "metadata": {},
   "outputs": [
    {
     "data": {
      "text/plain": [
       "P     0.586992\n",
       "R     0.853114\n",
       "F     0.695316\n",
       "Sd    0.022692\n",
       "Name: SVM, dtype: float64"
      ]
     },
     "execution_count": 37,
     "metadata": {},
     "output_type": "execute_result"
    }
   ],
   "source": [
    "# tune SVM\n",
    "svm_model = SVC(C=1.05, kernel='rbf', gamma=0.05, class_weight='balanced', max_iter=-1, random_state=0)\n",
    "statics.loc['SVM'] = model_stat(svm_model, X_transformed, y_train)\n",
    "statics.loc['SVM']"
   ]
  },
  {
   "cell_type": "code",
   "execution_count": 38,
   "metadata": {},
   "outputs": [
    {
     "data": {
      "text/plain": [
       "P     1.000000\n",
       "R     0.999473\n",
       "F     0.999868\n",
       "Sd    0.000263\n",
       "Name: RF, dtype: float64"
      ]
     },
     "execution_count": 38,
     "metadata": {},
     "output_type": "execute_result"
    }
   ],
   "source": [
    "# tune RF\n",
    "rf_model = RandomForestClassifier()\n",
    "statics.loc['RF'] = model_stat(rf_model, X_transformed, y_train)\n",
    "statics.loc['RF']"
   ]
  },
  {
   "cell_type": "code",
   "execution_count": 39,
   "metadata": {},
   "outputs": [],
   "source": [
    "# # rf_model.fit(X_, y_train)\n",
    "# print(rf_model.feature_importances_)\n",
    "# training_set.loc[training_set['y'] == 0].drop(['y'], axis='columns').columns"
   ]
  },
  {
   "cell_type": "code",
   "execution_count": 40,
   "metadata": {},
   "outputs": [
    {
     "data": {
      "text/plain": [
       "P     1.000000\n",
       "R     0.997894\n",
       "F     0.999341\n",
       "Sd    0.000723\n",
       "Name: CART, dtype: float64"
      ]
     },
     "execution_count": 40,
     "metadata": {},
     "output_type": "execute_result"
    }
   ],
   "source": [
    "# tune DT\n",
    "dt_model = DecisionTreeClassifier()\n",
    "statics.loc['CART'] = model_stat(dt_model, X_transformed, y_train)\n",
    "statics.loc['CART']"
   ]
  },
  {
   "cell_type": "code",
   "execution_count": 41,
   "metadata": {},
   "outputs": [
    {
     "data": {
      "text/plain": [
       "P     1.000000\n",
       "R     0.999473\n",
       "F     0.999868\n",
       "Sd    0.000263\n",
       "Name: NN, dtype: float64"
      ]
     },
     "execution_count": 41,
     "metadata": {},
     "output_type": "execute_result"
    }
   ],
   "source": [
    "# tune NN\n",
    "nn_model = MLPClassifier(hidden_layer_sizes=(100, 100, 100))\n",
    "statics.loc['NN'] = model_stat(nn_model, X_transformed, y_train)\n",
    "statics.loc['NN']"
   ]
  },
  {
   "cell_type": "code",
   "execution_count": 42,
   "metadata": {
    "scrolled": true
   },
   "outputs": [
    {
     "data": {
      "text/html": [
       "<div>\n",
       "<style scoped>\n",
       "    .dataframe tbody tr th:only-of-type {\n",
       "        vertical-align: middle;\n",
       "    }\n",
       "\n",
       "    .dataframe tbody tr th {\n",
       "        vertical-align: top;\n",
       "    }\n",
       "\n",
       "    .dataframe thead th {\n",
       "        text-align: right;\n",
       "    }\n",
       "</style>\n",
       "<table border=\"1\" class=\"dataframe\">\n",
       "  <thead>\n",
       "    <tr style=\"text-align: right;\">\n",
       "      <th></th>\n",
       "      <th>CART</th>\n",
       "      <th>SVM</th>\n",
       "      <th>NN</th>\n",
       "      <th>LR</th>\n",
       "      <th>RF</th>\n",
       "    </tr>\n",
       "  </thead>\n",
       "  <tbody>\n",
       "    <tr>\n",
       "      <th>P</th>\n",
       "      <td>1.000000</td>\n",
       "      <td>0.586992</td>\n",
       "      <td>1.000000</td>\n",
       "      <td>0.574484</td>\n",
       "      <td>1.000000</td>\n",
       "    </tr>\n",
       "    <tr>\n",
       "      <th>R</th>\n",
       "      <td>0.997894</td>\n",
       "      <td>0.853114</td>\n",
       "      <td>0.999473</td>\n",
       "      <td>0.813889</td>\n",
       "      <td>0.999473</td>\n",
       "    </tr>\n",
       "    <tr>\n",
       "      <th>F</th>\n",
       "      <td>0.999341</td>\n",
       "      <td>0.695316</td>\n",
       "      <td>0.999868</td>\n",
       "      <td>0.672989</td>\n",
       "      <td>0.999868</td>\n",
       "    </tr>\n",
       "    <tr>\n",
       "      <th>Sd</th>\n",
       "      <td>0.000723</td>\n",
       "      <td>0.022692</td>\n",
       "      <td>0.000263</td>\n",
       "      <td>0.044650</td>\n",
       "      <td>0.000263</td>\n",
       "    </tr>\n",
       "  </tbody>\n",
       "</table>\n",
       "</div>"
      ],
      "text/plain": [
       "        CART       SVM        NN        LR        RF\n",
       "P   1.000000  0.586992  1.000000  0.574484  1.000000\n",
       "R   0.997894  0.853114  0.999473  0.813889  0.999473\n",
       "F   0.999341  0.695316  0.999868  0.672989  0.999868\n",
       "Sd  0.000723  0.022692  0.000263  0.044650  0.000263"
      ]
     },
     "execution_count": 42,
     "metadata": {},
     "output_type": "execute_result"
    }
   ],
   "source": [
    "statics.T.to_csv('./preprocess/' + model_name + '_finalstatics.csv')\n",
    "statics.T"
   ]
  },
  {
   "cell_type": "code",
   "execution_count": null,
   "metadata": {},
   "outputs": [],
   "source": []
  }
 ],
 "metadata": {
  "kernelspec": {
   "display_name": "Python 3",
   "language": "python",
   "name": "python3"
  },
  "language_info": {
   "codemirror_mode": {
    "name": "ipython",
    "version": 3
   },
   "file_extension": ".py",
   "mimetype": "text/x-python",
   "name": "python",
   "nbconvert_exporter": "python",
   "pygments_lexer": "ipython3",
   "version": "3.6.4"
  }
 },
 "nbformat": 4,
 "nbformat_minor": 2
}
